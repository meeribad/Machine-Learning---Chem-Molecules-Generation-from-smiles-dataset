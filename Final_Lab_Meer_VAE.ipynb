{
  "nbformat": 4,
  "nbformat_minor": 0,
  "metadata": {
    "colab": {
      "name": "Final_Lab_Meer.ipynb",
      "provenance": [],
      "collapsed_sections": [],
      "machine_shape": "hm"
    },
    "kernelspec": {
      "name": "python3",
      "display_name": "Python 3"
    },
    "accelerator": "GPU"
  },
  "cells": [
    {
      "cell_type": "markdown",
      "metadata": {
        "id": "f3hdQ9Z66Rc0"
      },
      "source": [
        "# Installing rdkit for molecular visualization !\r\n"
      ]
    },
    {
      "cell_type": "code",
      "metadata": {
        "id": "__eAoEsD1lTw"
      },
      "source": [
        "! wget https://repo.anaconda.com/miniconda/Miniconda3-py37_4.8.2-Linux-x86_64.sh \r\n",
        "! chmod +x Miniconda3-py37_4.8.2-Linux-x86_64.sh \r\n",
        "! bash ./Miniconda3-py37_4.8.2-Linux-x86_64.sh -b -f -p /usr/local \r\n",
        "! conda install -c rdkit rdkit -y \r\n",
        "import sys \r\n",
        "sys.path.append('/usr/local/lib/python3.7/site-packages/')"
      ],
      "execution_count": null,
      "outputs": []
    },
    {
      "cell_type": "code",
      "metadata": {
        "id": "-hcfDyH16xz5"
      },
      "source": [
        "import numpy as np\r\n",
        "import pandas as pd\r\n",
        "import pprint "
      ],
      "execution_count": 9,
      "outputs": []
    },
    {
      "cell_type": "markdown",
      "metadata": {
        "id": "pMQL2q94jGW_"
      },
      "source": [
        "Changing dir to project dir "
      ]
    },
    {
      "cell_type": "code",
      "metadata": {
        "colab": {
          "base_uri": "https://localhost:8080/"
        },
        "id": "_GWKoi9l69AJ",
        "outputId": "d9b64a91-9d73-4178-d27f-6a2244608a56"
      },
      "source": [
        "cd /content/drive/MyDrive/ML_2/project"
      ],
      "execution_count": 10,
      "outputs": [
        {
          "output_type": "stream",
          "text": [
            "/content/drive/MyDrive/ML_2/project\n"
          ],
          "name": "stdout"
        }
      ]
    },
    {
      "cell_type": "markdown",
      "metadata": {
        "id": "HssbKQiFjOrZ"
      },
      "source": [
        "Reading 250k smiles dataset "
      ]
    },
    {
      "cell_type": "code",
      "metadata": {
        "id": "sAgopZR77Iqp"
      },
      "source": [
        "df = pd.read_csv('250k_smiles.csv')"
      ],
      "execution_count": 11,
      "outputs": []
    },
    {
      "cell_type": "code",
      "metadata": {
        "colab": {
          "base_uri": "https://localhost:8080/",
          "height": 195
        },
        "id": "plYtCBEC7OOA",
        "outputId": "129a4889-0537-46b4-cfeb-3906c1cbe69a"
      },
      "source": [
        "df.head()"
      ],
      "execution_count": 277,
      "outputs": [
        {
          "output_type": "execute_result",
          "data": {
            "text/html": [
              "<div>\n",
              "<style scoped>\n",
              "    .dataframe tbody tr th:only-of-type {\n",
              "        vertical-align: middle;\n",
              "    }\n",
              "\n",
              "    .dataframe tbody tr th {\n",
              "        vertical-align: top;\n",
              "    }\n",
              "\n",
              "    .dataframe thead th {\n",
              "        text-align: right;\n",
              "    }\n",
              "</style>\n",
              "<table border=\"1\" class=\"dataframe\">\n",
              "  <thead>\n",
              "    <tr style=\"text-align: right;\">\n",
              "      <th></th>\n",
              "      <th>smiles</th>\n",
              "      <th>logP</th>\n",
              "      <th>qed</th>\n",
              "      <th>SAS</th>\n",
              "    </tr>\n",
              "  </thead>\n",
              "  <tbody>\n",
              "    <tr>\n",
              "      <th>0</th>\n",
              "      <td>CC(C)(C)c1ccc2occ(CC(=O)Nc3ccccc3F)c2c1\\n</td>\n",
              "      <td>5.05060</td>\n",
              "      <td>0.702012</td>\n",
              "      <td>2.084095</td>\n",
              "    </tr>\n",
              "    <tr>\n",
              "      <th>1</th>\n",
              "      <td>C[C@@H]1CC(Nc2cncc(-c3nncn3C)c2)C[C@@H](C)C1\\n</td>\n",
              "      <td>3.11370</td>\n",
              "      <td>0.928975</td>\n",
              "      <td>3.432004</td>\n",
              "    </tr>\n",
              "    <tr>\n",
              "      <th>2</th>\n",
              "      <td>N#Cc1ccc(-c2ccc(O[C@@H](C(=O)N3CCCC3)c3ccccc3)...</td>\n",
              "      <td>4.96778</td>\n",
              "      <td>0.599682</td>\n",
              "      <td>2.470633</td>\n",
              "    </tr>\n",
              "    <tr>\n",
              "      <th>3</th>\n",
              "      <td>CCOC(=O)[C@@H]1CCCN(C(=O)c2nc(-c3ccc(C)cc3)n3c...</td>\n",
              "      <td>4.00022</td>\n",
              "      <td>0.690944</td>\n",
              "      <td>2.822753</td>\n",
              "    </tr>\n",
              "    <tr>\n",
              "      <th>4</th>\n",
              "      <td>N#CC1=C(SCC(=O)Nc2cccc(Cl)c2)N=C([O-])[C@H](C#...</td>\n",
              "      <td>3.60956</td>\n",
              "      <td>0.789027</td>\n",
              "      <td>4.035182</td>\n",
              "    </tr>\n",
              "  </tbody>\n",
              "</table>\n",
              "</div>"
            ],
            "text/plain": [
              "                                              smiles  ...       SAS\n",
              "0          CC(C)(C)c1ccc2occ(CC(=O)Nc3ccccc3F)c2c1\\n  ...  2.084095\n",
              "1     C[C@@H]1CC(Nc2cncc(-c3nncn3C)c2)C[C@@H](C)C1\\n  ...  3.432004\n",
              "2  N#Cc1ccc(-c2ccc(O[C@@H](C(=O)N3CCCC3)c3ccccc3)...  ...  2.470633\n",
              "3  CCOC(=O)[C@@H]1CCCN(C(=O)c2nc(-c3ccc(C)cc3)n3c...  ...  2.822753\n",
              "4  N#CC1=C(SCC(=O)Nc2cccc(Cl)c2)N=C([O-])[C@H](C#...  ...  4.035182\n",
              "\n",
              "[5 rows x 4 columns]"
            ]
          },
          "metadata": {
            "tags": []
          },
          "execution_count": 277
        }
      ]
    },
    {
      "cell_type": "code",
      "metadata": {
        "colab": {
          "base_uri": "https://localhost:8080/"
        },
        "id": "1LGzxd107X6X",
        "outputId": "88eb77c7-51e2-4027-c762-bc9343916be5"
      },
      "source": [
        "df.smiles"
      ],
      "execution_count": 11,
      "outputs": [
        {
          "output_type": "execute_result",
          "data": {
            "text/plain": [
              "0                 CC(C)(C)c1ccc2occ(CC(=O)Nc3ccccc3F)c2c1\\n\n",
              "1            C[C@@H]1CC(Nc2cncc(-c3nncn3C)c2)C[C@@H](C)C1\\n\n",
              "2         N#Cc1ccc(-c2ccc(O[C@@H](C(=O)N3CCCC3)c3ccccc3)...\n",
              "3         CCOC(=O)[C@@H]1CCCN(C(=O)c2nc(-c3ccc(C)cc3)n3c...\n",
              "4         N#CC1=C(SCC(=O)Nc2cccc(Cl)c2)N=C([O-])[C@H](C#...\n",
              "                                ...                        \n",
              "249450    CC1(C)CC[C@H](CNC(=O)Cn2ncc3ccccc3c2=O)c2ccccc...\n",
              "249451    Cn1ccnc1C(=O)c1ccc(NC(=O)C2CCN(C(=O)C(C)(C)C)C...\n",
              "249452             Cc1ccc(NC(=O)C(=O)N(C)Cc2ccccc2)c(C)c1\\n\n",
              "249453         Cc1cc(C(=O)Nc2ccc(OCC(N)=O)cc2)c(C)n1C1CC1\\n\n",
              "249454    O=C(CC(c1ccccc1)c1ccccc1)N1CCN(S(=O)(=O)c2cccc...\n",
              "Name: smiles, Length: 249455, dtype: object"
            ]
          },
          "metadata": {
            "tags": []
          },
          "execution_count": 11
        }
      ]
    },
    {
      "cell_type": "code",
      "metadata": {
        "colab": {
          "base_uri": "https://localhost:8080/",
          "height": 35
        },
        "id": "tHCA_UHx7d62",
        "outputId": "79f7bbd6-3fd8-433f-efa6-b04700ab54f6"
      },
      "source": [
        "df.smiles[0]"
      ],
      "execution_count": 12,
      "outputs": [
        {
          "output_type": "execute_result",
          "data": {
            "application/vnd.google.colaboratory.intrinsic+json": {
              "type": "string"
            },
            "text/plain": [
              "'CC(C)(C)c1ccc2occ(CC(=O)Nc3ccccc3F)c2c1\\n'"
            ]
          },
          "metadata": {
            "tags": []
          },
          "execution_count": 12
        }
      ]
    },
    {
      "cell_type": "code",
      "metadata": {
        "id": "xuniPfet7lHI"
      },
      "source": [
        "from rdkit import Chem"
      ],
      "execution_count": 14,
      "outputs": []
    },
    {
      "cell_type": "code",
      "metadata": {
        "colab": {
          "base_uri": "https://localhost:8080/"
        },
        "id": "7rugJjnE7yhA",
        "outputId": "c8f79aa5-41b6-4e14-d6c9-16ae5d8ce37b"
      },
      "source": [
        "m = Chem.MolFromSmiles(df.smiles[0])\r\n",
        "m.GetNumAtoms()"
      ],
      "execution_count": 10,
      "outputs": [
        {
          "output_type": "execute_result",
          "data": {
            "text/plain": [
              "24"
            ]
          },
          "metadata": {
            "tags": []
          },
          "execution_count": 10
        }
      ]
    },
    {
      "cell_type": "markdown",
      "metadata": {
        "id": "3M0--pWeqiCo"
      },
      "source": [
        "Visualizing the molecules in Zinc Dataset "
      ]
    },
    {
      "cell_type": "code",
      "metadata": {
        "id": "NAqllWSP8otw"
      },
      "source": [
        "%matplotlib inline\r\n",
        "import matplotlib.pyplot as plt\r\n",
        "from rdkit import Chem\r\n",
        "from rdkit.Chem.Draw import IPythonConsole\r\n",
        "from rdkit.Chem import Draw\r\n",
        "from rdkit.Chem import AllChem\r\n",
        "from rdkit.Chem import DataStructs\r\n",
        "from sklearn.decomposition import PCA\r\n",
        "from sklearn.manifold import TSNE\r\n",
        "import pandas as pd\r\n",
        "import numpy as np\r\n",
        "from scipy.spatial.distance import cdist"
      ],
      "execution_count": 15,
      "outputs": []
    },
    {
      "cell_type": "code",
      "metadata": {
        "id": "otJzl7Fjqomq"
      },
      "source": [
        "mols = [Chem.MolFromSmiles(smi) for smi in df.smiles]\r\n",
        "sampleidx = np.random.choice(list(range(len(mols))), size=400, replace=False)\r\n",
        "samplemols = [mols[i] for i in sampleidx]\r\n"
      ],
      "execution_count": 16,
      "outputs": []
    },
    {
      "cell_type": "code",
      "metadata": {
        "id": "3JQ8DzD4sBed"
      },
      "source": [
        "sampleact = [9-np.log10(df['SAS'][idx]) for idx in sampleidx]"
      ],
      "execution_count": 17,
      "outputs": []
    },
    {
      "cell_type": "markdown",
      "metadata": {
        "id": "yVIhxoOdq7J0"
      },
      "source": [
        "PCA t-SNE for getting chemical space and normalize the data."
      ]
    },
    {
      "cell_type": "code",
      "metadata": {
        "id": "JkuW3baVq6ey"
      },
      "source": [
        "fps = [AllChem.GetMorganFingerprintAsBitVect(m,2) for m in samplemols]\r\n",
        "def fp2arr(fp):\r\n",
        "    arr = np.zeros((0,))\r\n",
        "    DataStructs.ConvertToNumpyArray(fp,arr)\r\n",
        "    return arr\r\n",
        "X = np.asarray([fp2arr(fp) for fp in fps])"
      ],
      "execution_count": 18,
      "outputs": []
    },
    {
      "cell_type": "code",
      "metadata": {
        "colab": {
          "base_uri": "https://localhost:8080/"
        },
        "id": "q3uy_L9HqyP3",
        "outputId": "2eb89a16-49bf-4f37-bd16-fc1f1b24eaf3"
      },
      "source": [
        "X.shape"
      ],
      "execution_count": 19,
      "outputs": [
        {
          "output_type": "execute_result",
          "data": {
            "text/plain": [
              "(400, 2048)"
            ]
          },
          "metadata": {
            "tags": []
          },
          "execution_count": 19
        }
      ]
    },
    {
      "cell_type": "code",
      "metadata": {
        "colab": {
          "base_uri": "https://localhost:8080/"
        },
        "id": "DGBAVNUtrcUS",
        "outputId": "5b41e58b-0be4-439d-ff55-87a4d545a75c"
      },
      "source": [
        "size = 20\r\n",
        "N = size*size\r\n",
        "data = PCA(n_components=100).fit_transform(X.astype(np.float32))\r\n",
        "embeddings = TSNE(init='pca', random_state=794, verbose=2).fit_transform(data)\r\n",
        "embeddings -= embeddings.min(axis=0)\r\n",
        "embeddings /= embeddings.max(axis=0)"
      ],
      "execution_count": 20,
      "outputs": [
        {
          "output_type": "stream",
          "text": [
            "[t-SNE] Computing 91 nearest neighbors...\n",
            "[t-SNE] Indexed 400 samples in 0.008s...\n",
            "[t-SNE] Computed neighbors for 400 samples in 0.102s...\n",
            "[t-SNE] Computed conditional probabilities for sample 400 / 400\n",
            "[t-SNE] Mean sigma: 1.794616\n",
            "[t-SNE] Computed conditional probabilities in 0.032s\n",
            "[t-SNE] Iteration 50: error = 79.5521317, gradient norm = 0.4340051 (50 iterations in 0.230s)\n",
            "[t-SNE] Iteration 100: error = 83.9060211, gradient norm = 0.4077000 (50 iterations in 0.105s)\n",
            "[t-SNE] Iteration 150: error = 80.9550018, gradient norm = 0.4482836 (50 iterations in 0.116s)\n",
            "[t-SNE] Iteration 200: error = 80.7176361, gradient norm = 0.4596181 (50 iterations in 0.112s)\n",
            "[t-SNE] Iteration 250: error = 80.9723587, gradient norm = 0.4496589 (50 iterations in 0.112s)\n",
            "[t-SNE] KL divergence after 250 iterations with early exaggeration: 80.972359\n",
            "[t-SNE] Iteration 300: error = 1.7843372, gradient norm = 0.0048324 (50 iterations in 0.102s)\n",
            "[t-SNE] Iteration 350: error = 1.6662548, gradient norm = 0.0018741 (50 iterations in 0.084s)\n",
            "[t-SNE] Iteration 400: error = 1.6069237, gradient norm = 0.0011403 (50 iterations in 0.087s)\n",
            "[t-SNE] Iteration 450: error = 1.5744647, gradient norm = 0.0008867 (50 iterations in 0.088s)\n",
            "[t-SNE] Iteration 500: error = 1.5500454, gradient norm = 0.0018959 (50 iterations in 0.084s)\n",
            "[t-SNE] Iteration 550: error = 1.5304767, gradient norm = 0.0006488 (50 iterations in 0.086s)\n",
            "[t-SNE] Iteration 600: error = 1.5107491, gradient norm = 0.0005210 (50 iterations in 0.088s)\n",
            "[t-SNE] Iteration 650: error = 1.4964035, gradient norm = 0.0010575 (50 iterations in 0.084s)\n",
            "[t-SNE] Iteration 700: error = 1.4850944, gradient norm = 0.0011142 (50 iterations in 0.099s)\n",
            "[t-SNE] Iteration 750: error = 1.4780134, gradient norm = 0.0002108 (50 iterations in 0.089s)\n",
            "[t-SNE] Iteration 800: error = 1.4720892, gradient norm = 0.0010717 (50 iterations in 0.082s)\n",
            "[t-SNE] Iteration 850: error = 1.4640371, gradient norm = 0.0001661 (50 iterations in 0.088s)\n",
            "[t-SNE] Iteration 900: error = 1.4633349, gradient norm = 0.0001187 (50 iterations in 0.086s)\n",
            "[t-SNE] Iteration 950: error = 1.4631420, gradient norm = 0.0001028 (50 iterations in 0.082s)\n",
            "[t-SNE] Iteration 1000: error = 1.4622216, gradient norm = 0.0001646 (50 iterations in 0.086s)\n",
            "[t-SNE] KL divergence after 1000 iterations: 1.462222\n"
          ],
          "name": "stdout"
        }
      ]
    },
    {
      "cell_type": "markdown",
      "metadata": {
        "id": "dIPyb51Nt6G1"
      },
      "source": [
        "### Plotting the latent space of 400 molecules in the dataset "
      ]
    },
    {
      "cell_type": "code",
      "metadata": {
        "colab": {
          "base_uri": "https://localhost:8080/",
          "height": 282
        },
        "id": "wlfcjEMyro5d",
        "outputId": "03673a61-896e-46a2-a099-81ed2dbc4da9"
      },
      "source": [
        "plt.scatter(embeddings[:,0], embeddings[:,1], c=sampleact, cmap='hsv')"
      ],
      "execution_count": 21,
      "outputs": [
        {
          "output_type": "execute_result",
          "data": {
            "text/plain": [
              "<matplotlib.collections.PathCollection at 0x7f690d6b5518>"
            ]
          },
          "metadata": {
            "tags": []
          },
          "execution_count": 21
        },
        {
          "output_type": "display_data",
          "data": {
            "image/png": "[encoded data removed]",
            "text/plain": [
              "<Figure size 432x288 with 1 Axes>"
            ]
          },
          "metadata": {
            "tags": [],
            "needs_background": "light"
          }
        }
      ]
    },
    {
      "cell_type": "code",
      "metadata": {
        "id": "3kl66MQts5-u"
      },
      "source": [
        "from rdkit import Chem\r\n",
        "from rdkit.Chem import AllChem\r\n",
        "from rdkit.Chem import Draw"
      ],
      "execution_count": 22,
      "outputs": []
    },
    {
      "cell_type": "code",
      "metadata": {
        "id": "tMm5BhZNs7bf"
      },
      "source": [
        "sampleidx = np.random.choice(list(range(len(mols))), size=6, replace=False)\r\n",
        "samplemols = [mols[i] for i in sampleidx]"
      ],
      "execution_count": 23,
      "outputs": []
    },
    {
      "cell_type": "markdown",
      "metadata": {
        "id": "gJD5H7Y3uEZ5"
      },
      "source": [
        "Plotting random molecules from dataset"
      ]
    },
    {
      "cell_type": "code",
      "metadata": {
        "colab": {
          "base_uri": "https://localhost:8080/",
          "height": 517
        },
        "id": "fT4xAtYxtIRI",
        "outputId": "70e9ebd3-ff39-43f0-b2e0-0f65fec47f97"
      },
      "source": [
        "Draw.MolsToGridImage(samplemols,molsPerRow=3,subImgSize=(250,250))"
      ],
      "execution_count": 24,
      "outputs": [
        {
          "output_type": "execute_result",
          "data": {
            "image/png": "[encoded data removed]",
            "text/plain": [
              "<IPython.core.display.Image object>"
            ]
          },
          "metadata": {
            "tags": []
          },
          "execution_count": 24
        }
      ]
    },
    {
      "cell_type": "code",
      "metadata": {
        "id": "rOIyXBDEvXTu"
      },
      "source": [
        "df_smiles = df['smiles']"
      ],
      "execution_count": 16,
      "outputs": []
    },
    {
      "cell_type": "code",
      "metadata": {
        "colab": {
          "base_uri": "https://localhost:8080/"
        },
        "id": "3lDd-VBzvgJk",
        "outputId": "84c04229-6521-44b4-89e1-2249d3b891bb"
      },
      "source": [
        "df_smiles"
      ],
      "execution_count": 26,
      "outputs": [
        {
          "output_type": "execute_result",
          "data": {
            "text/plain": [
              "0                 CC(C)(C)c1ccc2occ(CC(=O)Nc3ccccc3F)c2c1\\n\n",
              "1            C[C@@H]1CC(Nc2cncc(-c3nncn3C)c2)C[C@@H](C)C1\\n\n",
              "2         N#Cc1ccc(-c2ccc(O[C@@H](C(=O)N3CCCC3)c3ccccc3)...\n",
              "3         CCOC(=O)[C@@H]1CCCN(C(=O)c2nc(-c3ccc(C)cc3)n3c...\n",
              "4         N#CC1=C(SCC(=O)Nc2cccc(Cl)c2)N=C([O-])[C@H](C#...\n",
              "                                ...                        \n",
              "249450    CC1(C)CC[C@H](CNC(=O)Cn2ncc3ccccc3c2=O)c2ccccc...\n",
              "249451    Cn1ccnc1C(=O)c1ccc(NC(=O)C2CCN(C(=O)C(C)(C)C)C...\n",
              "249452             Cc1ccc(NC(=O)C(=O)N(C)Cc2ccccc2)c(C)c1\\n\n",
              "249453         Cc1cc(C(=O)Nc2ccc(OCC(N)=O)cc2)c(C)n1C1CC1\\n\n",
              "249454    O=C(CC(c1ccccc1)c1ccccc1)N1CCN(S(=O)(=O)c2cccc...\n",
              "Name: smiles, Length: 249455, dtype: object"
            ]
          },
          "metadata": {
            "tags": []
          },
          "execution_count": 26
        }
      ]
    },
    {
      "cell_type": "markdown",
      "metadata": {
        "id": "bBuK0C1Duy-c"
      },
      "source": [
        "Processing the data "
      ]
    },
    {
      "cell_type": "code",
      "metadata": {
        "colab": {
          "base_uri": "https://localhost:8080/"
        },
        "id": "iWnE7xFGJRKV",
        "outputId": "9017cbc4-b322-4b28-9dcd-76a9e3d5509e"
      },
      "source": [
        "from sklearn.model_selection import train_test_split\r\n",
        "\r\n",
        "smiles_train, smiles_test = train_test_split(df[\"smiles\"], random_state=42)\r\n",
        "print (smiles_train.shape)\r\n",
        "print (smiles_test.shape)"
      ],
      "execution_count": 17,
      "outputs": [
        {
          "output_type": "stream",
          "text": [
            "(187091,)\n",
            "(62364,)\n"
          ],
          "name": "stdout"
        }
      ]
    },
    {
      "cell_type": "code",
      "metadata": {
        "colab": {
          "base_uri": "https://localhost:8080/"
        },
        "id": "RzfUilbDJpNN",
        "outputId": "b00293bb-8002-4ea5-d57f-79f137608f41"
      },
      "source": [
        "charset = set(\"\".join(list(df.smiles))+\"!E\")\r\n",
        "char_to_int = dict((c,i) for i,c in enumerate(charset))\r\n",
        "int_to_char = dict((i,c) for i,c in enumerate(charset))\r\n",
        "embed = max([len(smile) for smile in df.smiles]) + 5\r\n",
        "print (str(charset))\r\n",
        "print(len(charset), embed)"
      ],
      "execution_count": 18,
      "outputs": [
        {
          "output_type": "stream",
          "text": [
            "{'r', '8', 'C', '6', '1', '5', '[', '!', 'P', 'O', ']', '=', 'I', '+', '(', 'n', '2', '3', '@', '\\n', 'S', '7', 'E', '#', 'B', 'N', ')', 's', '-', '4', 'o', 'c', 'F', 'l', 'H', '/', '\\\\'}\n",
            "37 115\n"
          ],
          "name": "stdout"
        }
      ]
    },
    {
      "cell_type": "code",
      "metadata": {
        "colab": {
          "base_uri": "https://localhost:8080/"
        },
        "id": "QocwYGvB401L",
        "outputId": "e4fe6090-7cab-48a0-d6d6-edab0907d559"
      },
      "source": [
        "char_to_int\r\n"
      ],
      "execution_count": 19,
      "outputs": [
        {
          "output_type": "execute_result",
          "data": {
            "text/plain": [
              "{'\\n': 19,\n",
              " '!': 7,\n",
              " '#': 23,\n",
              " '(': 14,\n",
              " ')': 26,\n",
              " '+': 13,\n",
              " '-': 28,\n",
              " '/': 35,\n",
              " '1': 4,\n",
              " '2': 16,\n",
              " '3': 17,\n",
              " '4': 29,\n",
              " '5': 5,\n",
              " '6': 3,\n",
              " '7': 21,\n",
              " '8': 1,\n",
              " '=': 11,\n",
              " '@': 18,\n",
              " 'B': 24,\n",
              " 'C': 2,\n",
              " 'E': 22,\n",
              " 'F': 32,\n",
              " 'H': 34,\n",
              " 'I': 12,\n",
              " 'N': 25,\n",
              " 'O': 9,\n",
              " 'P': 8,\n",
              " 'S': 20,\n",
              " '[': 6,\n",
              " '\\\\': 36,\n",
              " ']': 10,\n",
              " 'c': 31,\n",
              " 'l': 33,\n",
              " 'n': 15,\n",
              " 'o': 30,\n",
              " 'r': 0,\n",
              " 's': 27}"
            ]
          },
          "metadata": {
            "tags": []
          },
          "execution_count": 19
        }
      ]
    },
    {
      "cell_type": "code",
      "metadata": {
        "colab": {
          "base_uri": "https://localhost:8080/"
        },
        "id": "01XMdmhjOb9b",
        "outputId": "07554163-5632-4a0b-9289-71f64dc93125"
      },
      "source": [
        "len(charset)"
      ],
      "execution_count": 21,
      "outputs": [
        {
          "output_type": "execute_result",
          "data": {
            "text/plain": [
              "37"
            ]
          },
          "metadata": {
            "tags": []
          },
          "execution_count": 21
        }
      ]
    },
    {
      "cell_type": "code",
      "metadata": {
        "colab": {
          "base_uri": "https://localhost:8080/"
        },
        "id": "uc6D71bt6-EG",
        "outputId": "786be876-63bc-458d-fe13-e0e168b0a640"
      },
      "source": [
        "X_train[8]"
      ],
      "execution_count": 17,
      "outputs": [
        {
          "output_type": "execute_result",
          "data": {
            "text/plain": [
              "array([[0, 0, 0, ..., 0, 0, 0],\n",
              "       [0, 0, 0, ..., 0, 0, 0],\n",
              "       [0, 0, 0, ..., 0, 0, 0],\n",
              "       ...,\n",
              "       [0, 0, 0, ..., 0, 0, 0],\n",
              "       [0, 0, 0, ..., 0, 0, 0],\n",
              "       [0, 0, 0, ..., 0, 0, 0]], dtype=int8)"
            ]
          },
          "metadata": {
            "tags": []
          },
          "execution_count": 17
        }
      ]
    },
    {
      "cell_type": "code",
      "metadata": {
        "colab": {
          "base_uri": "https://localhost:8080/"
        },
        "id": "H29Eea2Cs93x",
        "outputId": "7e55be5d-32ba-4626-8962-777f74c55895"
      },
      "source": [
        "charset = [\" \",'I', '\\\\', '+', 'P', 'B', 'F', '#', 'S', '\\n', 'c', '(', '6', '@', '-', '/', 'N', '4', 'n', '[', '3', 'H', '7', 'E', 'l', ']', '2', 's', 'r', '8', '!', '5', ')', '1', '=', 'o', 'C', 'O']\r\n",
        "print(len(charset))"
      ],
      "execution_count": 199,
      "outputs": [
        {
          "output_type": "stream",
          "text": [
            "38\n"
          ],
          "name": "stdout"
        }
      ]
    },
    {
      "cell_type": "code",
      "metadata": {
        "colab": {
          "base_uri": "https://localhost:8080/",
          "height": 326
        },
        "id": "scppLSaxKOan",
        "outputId": "da1d082f-10f6-4de9-b198-e56bc4aa22cd"
      },
      "source": [
        "def vectorize(smiles):\r\n",
        "        one_hot =  np.zeros((smiles.shape[0], embed , len(charset)),dtype=np.int8)\r\n",
        "        for i,smile in enumerate(smiles):\r\n",
        "            #encode the startchar\r\n",
        "            one_hot[i,0,char_to_int[\"!\"]] = 1\r\n",
        "            #encode the rest of the chars\r\n",
        "            for j,c in enumerate(smile):\r\n",
        "                one_hot[i,j+1,char_to_int[c]] = 1\r\n",
        "            #Encode endchar\r\n",
        "            one_hot[i,len(smile)+1:,char_to_int[\"E\"]] = 1\r\n",
        "        #Return two, one for input and the other for output\r\n",
        "        return one_hot[:,0:-1,:], one_hot[:,1:,:]\r\n",
        "X_train, Y_train = vectorize(smiles_train.values)\r\n",
        "X_test,Y_test = vectorize(smiles_test.values)\r\n",
        "print (smiles_train.iloc[0])\r\n",
        "plt.matshow(X_train[0].T)\r\n",
        "print (X_train.shape)"
      ],
      "execution_count": 215,
      "outputs": [
        {
          "output_type": "stream",
          "text": [
            "Cc1cc(F)cc([C@H](N)C2([NH+](C)C)CCCC2)c1\n",
            "\n",
            "(187091, 114, 38)\n"
          ],
          "name": "stdout"
        },
        {
          "output_type": "display_data",
          "data": {
            "image/png": "[encoded data removed]",
            "text/plain": [
              "<Figure size 864x288 with 1 Axes>"
            ]
          },
          "metadata": {
            "tags": [],
            "needs_background": "light"
          }
        }
      ]
    },
    {
      "cell_type": "markdown",
      "metadata": {
        "id": "8cm4nb4RkQoi"
      },
      "source": [
        "Creating defination functions for one hot encoding and decoding smiles "
      ]
    },
    {
      "cell_type": "code",
      "metadata": {
        "id": "12kZX1cd3Gf9"
      },
      "source": [
        "import h5py\r\n",
        "import numpy as np\r\n",
        "from rdkit import Chem\r\n",
        "\r\n",
        "\r\n",
        "def one_hot_array(i, n):\r\n",
        "    return list(map(int, [ix == i for ix in range(n)]))\r\n",
        "\r\n",
        "def one_hot_index(vec, charset):\r\n",
        "    return list(map(charset.index, vec))\r\n",
        "\r\n",
        "def from_one_hot_array(vec):\r\n",
        "    oh = np.where(vec == 1)\r\n",
        "    if oh[0].shape == (0,):\r\n",
        "        return None\r\n",
        "    return int(oh[0][0])\r\n",
        "\r\n",
        "def decode_smiles_from_indexes(vec, charset):\r\n",
        "    return \"\".join(map(lambda x: charset[x], vec)).strip()"
      ],
      "execution_count": 41,
      "outputs": []
    },
    {
      "cell_type": "code",
      "metadata": {
        "id": "9ZdC1qEl7W_2"
      },
      "source": [
        "def encode_smiles(smiles, model, charset):\r\n",
        "    cropped = list(smiles.ljust(114))\r\n",
        "    preprocessed = np.array([list(map(lambda x: one_hot_array(x, len(charset)), one_hot_index(cropped, charset)))])\r\n",
        "    latent = model.encoder.predict(preprocessed)\r\n",
        "    return latent"
      ],
      "execution_count": 51,
      "outputs": []
    },
    {
      "cell_type": "code",
      "metadata": {
        "id": "9IaDIiXr9t3v"
      },
      "source": [
        "def decode_latent_molecule(latent, model, charset, latent_dim):\r\n",
        "    decoded = model.decoder.predict(latent.reshape(1, latent_dim)).argmax(axis=2)[0]\r\n",
        "    smiles = decode_smiles_from_indexes(decoded, charset)\r\n",
        "    return smiles"
      ],
      "execution_count": 27,
      "outputs": []
    },
    {
      "cell_type": "markdown",
      "metadata": {
        "id": "s7fso04SlJfy"
      },
      "source": [
        "Creating interpolation function "
      ]
    },
    {
      "cell_type": "code",
      "metadata": {
        "id": "661V0JLo928Q"
      },
      "source": [
        "def interpolate(source_smiles, dest_smiles, steps, charset, model, latent_dim):\r\n",
        "    source_latent = encode_smiles(source_smiles, model, charset)\r\n",
        "    dest_latent = encode_smiles(dest_smiles, model, charset)\r\n",
        "    step = (dest_latent - source_latent) / float(steps)\r\n",
        "    results = []\r\n",
        "    for i in range(steps):\r\n",
        "        item = source_latent + (step * i)        \r\n",
        "        decoded = decode_latent_molecule(item, model, charset, latent_dim)\r\n",
        "        results.append(decoded)\r\n",
        "    return results"
      ],
      "execution_count": 28,
      "outputs": []
    },
    {
      "cell_type": "code",
      "metadata": {
        "id": "_co5pvhh923I"
      },
      "source": [
        "def get_unique_mols(mol_list):\r\n",
        "    inchi_keys = [Chem.InchiToInchiKey(Chem.MolToInchi(m)) for m in mol_list]\r\n",
        "    u, indices = np.unique(inchi_keys, return_index=True)\r\n",
        "    unique_mols = [[mol_list[i], inchi_keys[i]] for i in indices]\r\n",
        "    return unique_mols"
      ],
      "execution_count": 29,
      "outputs": []
    },
    {
      "cell_type": "markdown",
      "metadata": {
        "id": "uqF_mBBWlRWq"
      },
      "source": [
        "Building the model architecture for VAE \r\n",
        "\r\n",
        "Reference : https://arxiv.org/pdf/1610.02415.pdf"
      ]
    },
    {
      "cell_type": "code",
      "metadata": {
        "id": "FALFPLpF92z3"
      },
      "source": [
        "import copy\r\n",
        "from keras import backend as K\r\n",
        "from keras import objectives\r\n",
        "from keras.models import Model\r\n",
        "from keras.layers import Input, Dense, Lambda\r\n",
        "from keras.layers.core import Dense, Activation, Flatten, RepeatVector\r\n",
        "from keras.layers.wrappers import TimeDistributed\r\n",
        "from keras.layers.recurrent import GRU\r\n",
        "from keras.layers.convolutional import Convolution1D\r\n",
        "\r\n",
        "class MoleculeVAE():\r\n",
        "\r\n",
        "    autoencoder = None\r\n",
        "    \r\n",
        "    def create(self,\r\n",
        "               charset,\r\n",
        "               max_length = 114,\r\n",
        "               latent_rep_size = 114,\r\n",
        "               weights_file = None):\r\n",
        "        charset_length = len(charset)\r\n",
        "        \r\n",
        "        x = Input(shape=(max_length, charset_length))\r\n",
        "        _, z = self._buildEncoder(x, latent_rep_size, max_length)\r\n",
        "        self.encoder = Model(x, z)\r\n",
        "\r\n",
        "        encoded_input = Input(shape=(latent_rep_size,))\r\n",
        "        self.decoder = Model(\r\n",
        "            encoded_input,\r\n",
        "            self._buildDecoder(\r\n",
        "                encoded_input,\r\n",
        "                latent_rep_size,\r\n",
        "                max_length,\r\n",
        "                charset_length\r\n",
        "            )\r\n",
        "        )\r\n",
        "\r\n",
        "        x1 = Input(shape=(max_length, charset_length))\r\n",
        "        vae_loss, z1 = self._buildEncoder(x1, latent_rep_size, max_length)\r\n",
        "        self.autoencoder = Model(\r\n",
        "            x1,\r\n",
        "            self._buildDecoder(\r\n",
        "                z1,\r\n",
        "                latent_rep_size,\r\n",
        "                max_length,\r\n",
        "                charset_length\r\n",
        "            )\r\n",
        "        )\r\n",
        "\r\n",
        "        if weights_file:\r\n",
        "            self.autoencoder.load_weights(weights_file)\r\n",
        "            self.encoder.load_weights(weights_file, by_name = True)\r\n",
        "            self.decoder.load_weights(weights_file, by_name = True)\r\n",
        "\r\n",
        "        self.autoencoder.compile(optimizer = 'Adam',\r\n",
        "                                 loss = vae_loss,\r\n",
        "                                 metrics = ['accuracy'])\r\n",
        "\r\n",
        "    def _buildEncoder(self, x, latent_rep_size, max_length, epsilon_std = 0.01):\r\n",
        "        h = Convolution1D(9, 9, activation = 'relu', name='conv_1')(x)\r\n",
        "        h = Convolution1D(9, 9, activation = 'relu', name='conv_2')(h)\r\n",
        "        h = Convolution1D(10, 11, activation = 'relu', name='conv_3')(h)\r\n",
        "        h = Flatten(name='flatten_1')(h)\r\n",
        "        h = Dense(435, activation = 'relu', name='dense_1')(h)\r\n",
        "\r\n",
        "        def sampling(args):\r\n",
        "            z_mean_, z_log_var_ = args\r\n",
        "            batch_size = K.shape(z_mean_)[0]\r\n",
        "            epsilon = K.random_normal(shape=(batch_size, latent_rep_size), mean=0., stddev = epsilon_std)\r\n",
        "            return z_mean_ + K.exp(z_log_var_ / 2) * epsilon\r\n",
        "\r\n",
        "        z_mean = Dense(latent_rep_size, name='z_mean', activation = 'linear')(h)\r\n",
        "        z_log_var = Dense(latent_rep_size, name='z_log_var', activation = 'linear')(h)\r\n",
        "\r\n",
        "        def vae_loss(x, x_decoded_mean):\r\n",
        "            x = K.flatten(x)\r\n",
        "            x_decoded_mean = K.flatten(x_decoded_mean)\r\n",
        "            xent_loss = max_length * objectives.binary_crossentropy(x, x_decoded_mean)\r\n",
        "            kl_loss = - 0.5 * K.mean(1 + z_log_var - K.square(z_mean) - K.exp(z_log_var), axis = -1)\r\n",
        "            return xent_loss + kl_loss\r\n",
        "\r\n",
        "        return (vae_loss, Lambda(sampling, output_shape=(latent_rep_size,), name='lambda')([z_mean, z_log_var]))\r\n",
        "\r\n",
        "    def _buildDecoder(self, z, latent_rep_size, max_length, charset_length):\r\n",
        "        h = Dense(latent_rep_size, name='latent_input', activation = 'relu')(z)\r\n",
        "        h = RepeatVector(max_length, name='repeat_vector')(h)\r\n",
        "        h = GRU(501, return_sequences = True, name='gru_1')(h)\r\n",
        "        h = GRU(501, return_sequences = True, name='gru_2')(h)\r\n",
        "        h = GRU(501, return_sequences = True, name='gru_3')(h)\r\n",
        "        return TimeDistributed(Dense(charset_length, activation='softmax'), name='decoded_mean')(h)\r\n",
        "\r\n",
        "    def save(self, filename):\r\n",
        "        self.autoencoder.save_weights(filename)\r\n",
        "    \r\n",
        "    def load(self, charset, weights_file, latent_rep_size = 114):\r\n",
        "        self.create(charset, weights_file = weights_file, latent_rep_size = latent_rep_size)"
      ],
      "execution_count": 30,
      "outputs": []
    },
    {
      "cell_type": "markdown",
      "metadata": {
        "id": "zCv8S6Htljws"
      },
      "source": [
        "Importing keras backend "
      ]
    },
    {
      "cell_type": "code",
      "metadata": {
        "id": "hAjkfRnB1mV0"
      },
      "source": [
        "import tensorflow.compat.v1.keras.backend as K\r\n",
        "import tensorflow as tf\r\n",
        "tf.compat.v1.disable_eager_execution()"
      ],
      "execution_count": 31,
      "outputs": []
    },
    {
      "cell_type": "code",
      "metadata": {
        "id": "sJlTayNL-dgV"
      },
      "source": [
        "latent_dim = 114"
      ],
      "execution_count": 56,
      "outputs": []
    },
    {
      "cell_type": "code",
      "metadata": {
        "id": "n8XJVFvN-dbd"
      },
      "source": [
        "model = MoleculeVAE()"
      ],
      "execution_count": 62,
      "outputs": []
    },
    {
      "cell_type": "code",
      "metadata": {
        "id": "odthdNa8plXr"
      },
      "source": [
        "from keras.callbacks import ModelCheckpoint, ReduceLROnPlateau"
      ],
      "execution_count": 32,
      "outputs": []
    },
    {
      "cell_type": "code",
      "metadata": {
        "id": "pDjjZ0fT_g9k"
      },
      "source": [
        "checkpointer = ModelCheckpoint(filepath = '/content/drive/MyDrive/ML_2/project/best_model.h5',\r\n",
        "                                   verbose = 1,\r\n",
        "                                   save_best_only = True)\r\n",
        "\r\n",
        "reduce_lr = ReduceLROnPlateau(monitor = 'val_loss',\r\n",
        "                                  factor = 0.2,\r\n",
        "                                  patience = 3,\r\n",
        "                                  min_lr = 0.0001)"
      ],
      "execution_count": 131,
      "outputs": []
    },
    {
      "cell_type": "markdown",
      "metadata": {
        "id": "Mgl0XLe5lwYt"
      },
      "source": [
        "Creating the model and training ! "
      ]
    },
    {
      "cell_type": "code",
      "metadata": {
        "id": "JVV7NYDgCtw0",
        "colab": {
          "base_uri": "https://localhost:8080/"
        },
        "outputId": "ba5af317-ef42-4351-9aaf-2b819a4ca9e4"
      },
      "source": [
        "model.create(charset, latent_rep_size)\r\n",
        "\r\n",
        "checkpointer = ModelCheckpoint(filepath = '/content/drive/MyDrive/ML_2/project/weights-improvement-{epoch:02d}-{val_accuracy:.2f}.hdf5',\r\n",
        "                                   verbose = 1,\r\n",
        "                                   save_best_only = True)\r\n",
        "\r\n",
        "reduce_lr = ReduceLROnPlateau(monitor = 'val_loss',\r\n",
        "                                  factor = 0.2,\r\n",
        "                                  patience = 3,\r\n",
        "                                  min_lr = 0.0001)\r\n",
        "\r\n",
        "model.autoencoder.fit(\r\n",
        "         X_train,\r\n",
        "         Y_train,\r\n",
        "         shuffle = True,\r\n",
        "         epochs = 5,\r\n",
        "         batch_size = 600,\r\n",
        "        callbacks = [checkpointer, reduce_lr],\r\n",
        "        validation_data = (X_test,Y_test))"
      ],
      "execution_count": 95,
      "outputs": [
        {
          "output_type": "stream",
          "text": [
            "WARNING:tensorflow:Layer gru_1 will not use cuDNN kernel since it doesn't meet the cuDNN kernel criteria. It will use generic GPU kernel as fallback when running on GPU\n",
            "WARNING:tensorflow:Layer gru_2 will not use cuDNN kernel since it doesn't meet the cuDNN kernel criteria. It will use generic GPU kernel as fallback when running on GPU\n",
            "WARNING:tensorflow:Layer gru_3 will not use cuDNN kernel since it doesn't meet the cuDNN kernel criteria. It will use generic GPU kernel as fallback when running on GPU\n",
            "WARNING:tensorflow:Layer gru_1 will not use cuDNN kernel since it doesn't meet the cuDNN kernel criteria. It will use generic GPU kernel as fallback when running on GPU\n",
            "WARNING:tensorflow:Layer gru_2 will not use cuDNN kernel since it doesn't meet the cuDNN kernel criteria. It will use generic GPU kernel as fallback when running on GPU\n",
            "WARNING:tensorflow:Layer gru_3 will not use cuDNN kernel since it doesn't meet the cuDNN kernel criteria. It will use generic GPU kernel as fallback when running on GPU\n",
            "Train on 187091 samples, validate on 62364 samples\n",
            "Epoch 1/5\n",
            "187091/187091 [==============================] - ETA: 0s - loss: 3.1805 - accuracy: 0.6700"
          ],
          "name": "stdout"
        },
        {
          "output_type": "stream",
          "text": [
            "/usr/local/lib/python3.6/dist-packages/tensorflow/python/keras/engine/training.py:2325: UserWarning: `Model.state_updates` will be removed in a future version. This property should not be used in TensorFlow 2.0, as `updates` are applied automatically.\n",
            "  warnings.warn('`Model.state_updates` will be removed in a future version. '\n"
          ],
          "name": "stderr"
        },
        {
          "output_type": "stream",
          "text": [
            "\n",
            "Epoch 00001: val_loss improved from inf to 2.69514, saving model to /content/drive/MyDrive/ML_2/project\n",
            "INFO:tensorflow:Assets written to: /content/drive/MyDrive/ML_2/project/assets\n",
            "187091/187091 [==============================] - 134s 718us/sample - loss: 3.1805 - accuracy: 0.6700 - val_loss: 2.6951 - val_accuracy: 0.6934\n",
            "Epoch 2/5\n",
            "187091/187091 [==============================] - ETA: 0s - loss: 2.7302 - accuracy: 0.6900\n",
            "Epoch 00002: val_loss improved from 2.69514 to 2.67614, saving model to /content/drive/MyDrive/ML_2/project\n",
            "INFO:tensorflow:Assets written to: /content/drive/MyDrive/ML_2/project/assets\n",
            "187091/187091 [==============================] - 130s 697us/sample - loss: 2.7302 - accuracy: 0.6900 - val_loss: 2.6761 - val_accuracy: 0.6911\n",
            "Epoch 3/5\n",
            "187091/187091 [==============================] - ETA: 0s - loss: 2.6652 - accuracy: 0.6984\n",
            "Epoch 00003: val_loss improved from 2.67614 to 2.60478, saving model to /content/drive/MyDrive/ML_2/project\n",
            "INFO:tensorflow:Assets written to: /content/drive/MyDrive/ML_2/project/assets\n",
            "187091/187091 [==============================] - 128s 685us/sample - loss: 2.6652 - accuracy: 0.6984 - val_loss: 2.6048 - val_accuracy: 0.7073\n",
            "Epoch 4/5\n",
            "187091/187091 [==============================] - ETA: 0s - loss: 2.6049 - accuracy: 0.7115\n",
            "Epoch 00004: val_loss improved from 2.60478 to 2.57261, saving model to /content/drive/MyDrive/ML_2/project\n",
            "INFO:tensorflow:Assets written to: /content/drive/MyDrive/ML_2/project/assets\n",
            "187091/187091 [==============================] - 129s 689us/sample - loss: 2.6049 - accuracy: 0.7115 - val_loss: 2.5726 - val_accuracy: 0.7121\n",
            "Epoch 5/5\n",
            "187091/187091 [==============================] - ETA: 0s - loss: 2.5210 - accuracy: 0.7233\n",
            "Epoch 00005: val_loss improved from 2.57261 to 2.47377, saving model to /content/drive/MyDrive/ML_2/project\n",
            "INFO:tensorflow:Assets written to: /content/drive/MyDrive/ML_2/project/assets\n",
            "187091/187091 [==============================] - 128s 684us/sample - loss: 2.5210 - accuracy: 0.7233 - val_loss: 2.4738 - val_accuracy: 0.7262\n"
          ],
          "name": "stdout"
        },
        {
          "output_type": "execute_result",
          "data": {
            "text/plain": [
              "<tensorflow.python.keras.callbacks.History at 0x7f64153c0ef0>"
            ]
          },
          "metadata": {
            "tags": []
          },
          "execution_count": 95
        }
      ]
    },
    {
      "cell_type": "markdown",
      "metadata": {
        "id": "05pdp6sTl6xd"
      },
      "source": [
        "Training the model in batches not to overload memory "
      ]
    },
    {
      "cell_type": "code",
      "metadata": {
        "colab": {
          "base_uri": "https://localhost:8080/"
        },
        "id": "R4dW2u1rGZpZ",
        "outputId": "09e17821-e462-4c77-f42f-441c380269ee"
      },
      "source": [
        "model.autoencoder.fit(\r\n",
        "         X_train,\r\n",
        "         Y_train,\r\n",
        "         shuffle = True,\r\n",
        "         epochs = 15,\r\n",
        "         batch_size = 1200,\r\n",
        "        callbacks = [checkpointer, reduce_lr],\r\n",
        "        validation_data = (X_test,Y_test))"
      ],
      "execution_count": 103,
      "outputs": [
        {
          "output_type": "stream",
          "text": [
            "Train on 187091 samples, validate on 62364 samples\n",
            "Epoch 1/15\n",
            "187091/187091 [==============================] - ETA: 0s - loss: 2.4346 - accuracy: 0.7346\n",
            "Epoch 00001: val_loss did not improve from 2.47377\n",
            "187091/187091 [==============================] - 95s 508us/sample - loss: 2.4346 - accuracy: 0.7346 - val_loss: 2.4836 - val_accuracy: 0.7230\n",
            "Epoch 2/15\n",
            "187091/187091 [==============================] - ETA: 0s - loss: 2.3582 - accuracy: 0.7417\n",
            "Epoch 00002: val_loss improved from 2.47377 to 2.30983, saving model to /content/drive/MyDrive/ML_2/project\n",
            "INFO:tensorflow:Assets written to: /content/drive/MyDrive/ML_2/project/assets\n",
            "187091/187091 [==============================] - 103s 549us/sample - loss: 2.3582 - accuracy: 0.7417 - val_loss: 2.3098 - val_accuracy: 0.7426\n",
            "Epoch 3/15\n",
            "187091/187091 [==============================] - ETA: 0s - loss: 2.3028 - accuracy: 0.7463\n",
            "Epoch 00003: val_loss did not improve from 2.30983\n",
            "187091/187091 [==============================] - 95s 508us/sample - loss: 2.3028 - accuracy: 0.7463 - val_loss: 2.3479 - val_accuracy: 0.7408\n",
            "Epoch 4/15\n",
            "187091/187091 [==============================] - ETA: 0s - loss: 2.2564 - accuracy: 0.7505\n",
            "Epoch 00004: val_loss improved from 2.30983 to 2.19369, saving model to /content/drive/MyDrive/ML_2/project\n",
            "INFO:tensorflow:Assets written to: /content/drive/MyDrive/ML_2/project/assets\n",
            "187091/187091 [==============================] - 102s 545us/sample - loss: 2.2564 - accuracy: 0.7505 - val_loss: 2.1937 - val_accuracy: 0.7600\n",
            "Epoch 5/15\n",
            "187091/187091 [==============================] - ETA: 0s - loss: 2.1737 - accuracy: 0.7569\n",
            "Epoch 00005: val_loss improved from 2.19369 to 2.15747, saving model to /content/drive/MyDrive/ML_2/project\n",
            "INFO:tensorflow:Assets written to: /content/drive/MyDrive/ML_2/project/assets\n",
            "187091/187091 [==============================] - 102s 546us/sample - loss: 2.1737 - accuracy: 0.7569 - val_loss: 2.1575 - val_accuracy: 0.7606\n",
            "Epoch 6/15\n",
            "187091/187091 [==============================] - ETA: 0s - loss: 2.1035 - accuracy: 0.7646\n",
            "Epoch 00006: val_loss improved from 2.15747 to 2.06249, saving model to /content/drive/MyDrive/ML_2/project\n",
            "INFO:tensorflow:Assets written to: /content/drive/MyDrive/ML_2/project/assets\n",
            "187091/187091 [==============================] - 102s 548us/sample - loss: 2.1035 - accuracy: 0.7646 - val_loss: 2.0625 - val_accuracy: 0.7697\n",
            "Epoch 7/15\n",
            "187091/187091 [==============================] - ETA: 0s - loss: 2.0112 - accuracy: 0.7758\n",
            "Epoch 00007: val_loss improved from 2.06249 to 1.93333, saving model to /content/drive/MyDrive/ML_2/project\n",
            "INFO:tensorflow:Assets written to: /content/drive/MyDrive/ML_2/project/assets\n",
            "187091/187091 [==============================] - 102s 547us/sample - loss: 2.0112 - accuracy: 0.7758 - val_loss: 1.9333 - val_accuracy: 0.7881\n",
            "Epoch 8/15\n",
            "187091/187091 [==============================] - ETA: 0s - loss: 1.9476 - accuracy: 0.7836\n",
            "Epoch 00008: val_loss did not improve from 1.93333\n",
            "187091/187091 [==============================] - 95s 508us/sample - loss: 1.9476 - accuracy: 0.7836 - val_loss: 1.9435 - val_accuracy: 0.7799\n",
            "Epoch 9/15\n",
            "187091/187091 [==============================] - ETA: 0s - loss: 1.8681 - accuracy: 0.7929\n",
            "Epoch 00009: val_loss improved from 1.93333 to 1.80764, saving model to /content/drive/MyDrive/ML_2/project\n",
            "INFO:tensorflow:Assets written to: /content/drive/MyDrive/ML_2/project/assets\n",
            "187091/187091 [==============================] - 103s 548us/sample - loss: 1.8681 - accuracy: 0.7929 - val_loss: 1.8076 - val_accuracy: 0.8017\n",
            "Epoch 10/15\n",
            "187091/187091 [==============================] - ETA: 0s - loss: 1.8248 - accuracy: 0.7984\n",
            "Epoch 00010: val_loss improved from 1.80764 to 1.74569, saving model to /content/drive/MyDrive/ML_2/project\n",
            "INFO:tensorflow:Assets written to: /content/drive/MyDrive/ML_2/project/assets\n",
            "187091/187091 [==============================] - 102s 547us/sample - loss: 1.8248 - accuracy: 0.7984 - val_loss: 1.7457 - val_accuracy: 0.8114\n",
            "Epoch 11/15\n",
            "187091/187091 [==============================] - ETA: 0s - loss: 1.7536 - accuracy: 0.8080\n",
            "Epoch 00011: val_loss improved from 1.74569 to 1.66567, saving model to /content/drive/MyDrive/ML_2/project\n",
            "INFO:tensorflow:Assets written to: /content/drive/MyDrive/ML_2/project/assets\n",
            "187091/187091 [==============================] - 102s 547us/sample - loss: 1.7536 - accuracy: 0.8080 - val_loss: 1.6657 - val_accuracy: 0.8198\n",
            "Epoch 12/15\n",
            "187091/187091 [==============================] - ETA: 0s - loss: 1.6956 - accuracy: 0.8154\n",
            "Epoch 00012: val_loss did not improve from 1.66567\n",
            "187091/187091 [==============================] - 95s 508us/sample - loss: 1.6956 - accuracy: 0.8154 - val_loss: 1.9286 - val_accuracy: 0.7846\n",
            "Epoch 13/15\n",
            "187091/187091 [==============================] - ETA: 0s - loss: 1.6595 - accuracy: 0.8206\n",
            "Epoch 00013: val_loss improved from 1.66567 to 1.59636, saving model to /content/drive/MyDrive/ML_2/project\n",
            "INFO:tensorflow:Assets written to: /content/drive/MyDrive/ML_2/project/assets\n",
            "187091/187091 [==============================] - 102s 547us/sample - loss: 1.6595 - accuracy: 0.8206 - val_loss: 1.5964 - val_accuracy: 0.8264\n",
            "Epoch 14/15\n",
            "187091/187091 [==============================] - ETA: 0s - loss: 1.5785 - accuracy: 0.8309\n",
            "Epoch 00014: val_loss did not improve from 1.59636\n",
            "187091/187091 [==============================] - 95s 508us/sample - loss: 1.5785 - accuracy: 0.8309 - val_loss: 1.6976 - val_accuracy: 0.8170\n",
            "Epoch 15/15\n",
            "187091/187091 [==============================] - ETA: 0s - loss: 1.5657 - accuracy: 0.8334\n",
            "Epoch 00015: val_loss improved from 1.59636 to 1.51263, saving model to /content/drive/MyDrive/ML_2/project\n",
            "INFO:tensorflow:Assets written to: /content/drive/MyDrive/ML_2/project/assets\n",
            "187091/187091 [==============================] - 102s 544us/sample - loss: 1.5657 - accuracy: 0.8334 - val_loss: 1.5126 - val_accuracy: 0.8411\n"
          ],
          "name": "stdout"
        },
        {
          "output_type": "execute_result",
          "data": {
            "text/plain": [
              "<tensorflow.python.keras.callbacks.History at 0x7f6413f7dd30>"
            ]
          },
          "metadata": {
            "tags": []
          },
          "execution_count": 103
        }
      ]
    },
    {
      "cell_type": "code",
      "metadata": {
        "colab": {
          "base_uri": "https://localhost:8080/"
        },
        "id": "oYEjBHK0Qj55",
        "outputId": "616fec0d-19df-4c7b-d393-9ad53c4c60f5"
      },
      "source": [
        "model.autoencoder.fit(\r\n",
        "         X_train,\r\n",
        "         Y_train,\r\n",
        "         shuffle = True,\r\n",
        "         epochs = 15,\r\n",
        "         batch_size = 1200,\r\n",
        "        callbacks = [checkpointer, reduce_lr],\r\n",
        "        validation_data = (X_test,Y_test))"
      ],
      "execution_count": 112,
      "outputs": [
        {
          "output_type": "stream",
          "text": [
            "Train on 187091 samples, validate on 62364 samples\n",
            "Epoch 1/15\n",
            "187091/187091 [==============================] - ETA: 0s - loss: 1.4521 - accuracy: 0.8471\n",
            "Epoch 00001: val_loss improved from 1.51263 to 1.38917, saving model to /content/drive/MyDrive/ML_2/project\n",
            "INFO:tensorflow:Assets written to: /content/drive/MyDrive/ML_2/project/assets\n",
            "187091/187091 [==============================] - 102s 544us/sample - loss: 1.4521 - accuracy: 0.8471 - val_loss: 1.3892 - val_accuracy: 0.8553\n",
            "Epoch 2/15\n",
            "187091/187091 [==============================] - ETA: 0s - loss: 1.4117 - accuracy: 0.8522\n",
            "Epoch 00002: val_loss improved from 1.38917 to 1.32776, saving model to /content/drive/MyDrive/ML_2/project\n",
            "INFO:tensorflow:Assets written to: /content/drive/MyDrive/ML_2/project/assets\n",
            "187091/187091 [==============================] - 102s 544us/sample - loss: 1.4117 - accuracy: 0.8522 - val_loss: 1.3278 - val_accuracy: 0.8625\n",
            "Epoch 3/15\n",
            "187091/187091 [==============================] - ETA: 0s - loss: 1.3899 - accuracy: 0.8551\n",
            "Epoch 00003: val_loss improved from 1.32776 to 1.27225, saving model to /content/drive/MyDrive/ML_2/project\n",
            "INFO:tensorflow:Assets written to: /content/drive/MyDrive/ML_2/project/assets\n",
            "187091/187091 [==============================] - 102s 546us/sample - loss: 1.3899 - accuracy: 0.8551 - val_loss: 1.2722 - val_accuracy: 0.8686\n",
            "Epoch 4/15\n",
            "187091/187091 [==============================] - ETA: 0s - loss: 1.3007 - accuracy: 0.8656\n",
            "Epoch 00004: val_loss improved from 1.27225 to 1.21755, saving model to /content/drive/MyDrive/ML_2/project\n",
            "INFO:tensorflow:Assets written to: /content/drive/MyDrive/ML_2/project/assets\n",
            "187091/187091 [==============================] - 102s 544us/sample - loss: 1.3007 - accuracy: 0.8656 - val_loss: 1.2175 - val_accuracy: 0.8759\n",
            "Epoch 5/15\n",
            "187091/187091 [==============================] - ETA: 0s - loss: 1.2385 - accuracy: 0.8730\n",
            "Epoch 00005: val_loss improved from 1.21755 to 1.17656, saving model to /content/drive/MyDrive/ML_2/project\n",
            "INFO:tensorflow:Assets written to: /content/drive/MyDrive/ML_2/project/assets\n",
            "187091/187091 [==============================] - 102s 545us/sample - loss: 1.2385 - accuracy: 0.8730 - val_loss: 1.1766 - val_accuracy: 0.8797\n",
            "Epoch 6/15\n",
            "187091/187091 [==============================] - ETA: 0s - loss: 1.2804 - accuracy: 0.8685\n",
            "Epoch 00006: val_loss improved from 1.17656 to 1.15503, saving model to /content/drive/MyDrive/ML_2/project\n",
            "INFO:tensorflow:Assets written to: /content/drive/MyDrive/ML_2/project/assets\n",
            "187091/187091 [==============================] - 101s 541us/sample - loss: 1.2804 - accuracy: 0.8685 - val_loss: 1.1550 - val_accuracy: 0.8824\n",
            "Epoch 7/15\n",
            "187091/187091 [==============================] - ETA: 0s - loss: 1.1875 - accuracy: 0.8793\n",
            "Epoch 00007: val_loss improved from 1.15503 to 1.08254, saving model to /content/drive/MyDrive/ML_2/project\n",
            "INFO:tensorflow:Assets written to: /content/drive/MyDrive/ML_2/project/assets\n",
            "187091/187091 [==============================] - 102s 544us/sample - loss: 1.1875 - accuracy: 0.8793 - val_loss: 1.0825 - val_accuracy: 0.8905\n",
            "Epoch 8/15\n",
            "187091/187091 [==============================] - ETA: 0s - loss: 1.1611 - accuracy: 0.8820\n",
            "Epoch 00008: val_loss did not improve from 1.08254\n",
            "187091/187091 [==============================] - 95s 507us/sample - loss: 1.1611 - accuracy: 0.8820 - val_loss: 1.2486 - val_accuracy: 0.8693\n",
            "Epoch 9/15\n",
            "187091/187091 [==============================] - ETA: 0s - loss: 1.1038 - accuracy: 0.8888\n",
            "Epoch 00009: val_loss improved from 1.08254 to 1.00526, saving model to /content/drive/MyDrive/ML_2/project\n",
            "INFO:tensorflow:Assets written to: /content/drive/MyDrive/ML_2/project/assets\n",
            "187091/187091 [==============================] - 102s 545us/sample - loss: 1.1038 - accuracy: 0.8888 - val_loss: 1.0053 - val_accuracy: 0.8996\n",
            "Epoch 10/15\n",
            "187091/187091 [==============================] - ETA: 0s - loss: 1.1120 - accuracy: 0.8882\n",
            "Epoch 00010: val_loss did not improve from 1.00526\n",
            "187091/187091 [==============================] - 95s 507us/sample - loss: 1.1120 - accuracy: 0.8882 - val_loss: 1.1260 - val_accuracy: 0.8855\n",
            "Epoch 11/15\n",
            "187091/187091 [==============================] - ETA: 0s - loss: 1.0751 - accuracy: 0.8918\n",
            "Epoch 00011: val_loss improved from 1.00526 to 0.99732, saving model to /content/drive/MyDrive/ML_2/project\n",
            "INFO:tensorflow:Assets written to: /content/drive/MyDrive/ML_2/project/assets\n",
            "187091/187091 [==============================] - 102s 547us/sample - loss: 1.0751 - accuracy: 0.8918 - val_loss: 0.9973 - val_accuracy: 0.9001\n",
            "Epoch 12/15\n",
            "187091/187091 [==============================] - ETA: 0s - loss: 0.9941 - accuracy: 0.9008\n",
            "Epoch 00012: val_loss improved from 0.99732 to 0.90793, saving model to /content/drive/MyDrive/ML_2/project\n",
            "INFO:tensorflow:Assets written to: /content/drive/MyDrive/ML_2/project/assets\n",
            "187091/187091 [==============================] - 102s 546us/sample - loss: 0.9941 - accuracy: 0.9008 - val_loss: 0.9079 - val_accuracy: 0.9096\n",
            "Epoch 13/15\n",
            "187091/187091 [==============================] - ETA: 0s - loss: 1.0024 - accuracy: 0.8999\n",
            "Epoch 00013: val_loss did not improve from 0.90793\n",
            "187091/187091 [==============================] - 95s 507us/sample - loss: 1.0024 - accuracy: 0.8999 - val_loss: 1.0191 - val_accuracy: 0.8964\n",
            "Epoch 14/15\n",
            "187091/187091 [==============================] - ETA: 0s - loss: 0.9457 - accuracy: 0.9058\n",
            "Epoch 00014: val_loss improved from 0.90793 to 0.88971, saving model to /content/drive/MyDrive/ML_2/project\n",
            "INFO:tensorflow:Assets written to: /content/drive/MyDrive/ML_2/project/assets\n",
            "187091/187091 [==============================] - 102s 546us/sample - loss: 0.9457 - accuracy: 0.9058 - val_loss: 0.8897 - val_accuracy: 0.9116\n",
            "Epoch 15/15\n",
            "187091/187091 [==============================] - ETA: 0s - loss: 0.8946 - accuracy: 0.9114\n",
            "Epoch 00015: val_loss improved from 0.88971 to 0.82152, saving model to /content/drive/MyDrive/ML_2/project\n",
            "INFO:tensorflow:Assets written to: /content/drive/MyDrive/ML_2/project/assets\n",
            "187091/187091 [==============================] - 101s 541us/sample - loss: 0.8946 - accuracy: 0.9114 - val_loss: 0.8215 - val_accuracy: 0.9190\n"
          ],
          "name": "stdout"
        },
        {
          "output_type": "execute_result",
          "data": {
            "text/plain": [
              "<tensorflow.python.keras.callbacks.History at 0x7f690d61f278>"
            ]
          },
          "metadata": {
            "tags": []
          },
          "execution_count": 112
        }
      ]
    },
    {
      "cell_type": "code",
      "metadata": {
        "colab": {
          "base_uri": "https://localhost:8080/"
        },
        "id": "fi-xXwLsXiVv",
        "outputId": "814e20aa-c651-4dd6-e732-2d4754dbecc4"
      },
      "source": [
        "model.autoencoder.fit(\r\n",
        "         X_train,\r\n",
        "         Y_train,\r\n",
        "         shuffle = True,\r\n",
        "         epochs = 15,\r\n",
        "         batch_size = 1200,\r\n",
        "        callbacks = [checkpointer, reduce_lr],\r\n",
        "        validation_data = (X_test,Y_test))"
      ],
      "execution_count": 122,
      "outputs": [
        {
          "output_type": "stream",
          "text": [
            "Train on 187091 samples, validate on 62364 samples\n",
            "Epoch 1/15\n",
            "187091/187091 [==============================] - ETA: 0s - loss: 0.9954 - accuracy: 0.9012\n",
            "Epoch 00001: val_loss improved from inf to 0.85052, saving model to /content/drive/MyDrive/ML_2/project/weights-improvement-01-0.92.hdf5\n",
            "187091/187091 [==============================] - 95s 508us/sample - loss: 0.9954 - accuracy: 0.9012 - val_loss: 0.8505 - val_accuracy: 0.9164\n",
            "Epoch 2/15\n",
            "187091/187091 [==============================] - ETA: 0s - loss: 0.8658 - accuracy: 0.9146\n",
            "Epoch 00002: val_loss improved from 0.85052 to 0.78736, saving model to /content/drive/MyDrive/ML_2/project/weights-improvement-02-0.92.hdf5\n",
            "187091/187091 [==============================] - 95s 506us/sample - loss: 0.8658 - accuracy: 0.9146 - val_loss: 0.7874 - val_accuracy: 0.9226\n",
            "Epoch 3/15\n",
            "187091/187091 [==============================] - ETA: 0s - loss: 0.8468 - accuracy: 0.9165\n",
            "Epoch 00003: val_loss improved from 0.78736 to 0.76765, saving model to /content/drive/MyDrive/ML_2/project/weights-improvement-03-0.92.hdf5\n",
            "187091/187091 [==============================] - 95s 508us/sample - loss: 0.8468 - accuracy: 0.9165 - val_loss: 0.7676 - val_accuracy: 0.9241\n",
            "Epoch 4/15\n",
            "187091/187091 [==============================] - ETA: 0s - loss: 0.9041 - accuracy: 0.9105\n",
            "Epoch 00004: val_loss did not improve from 0.76765\n",
            "187091/187091 [==============================] - 95s 507us/sample - loss: 0.9041 - accuracy: 0.9105 - val_loss: 0.7817 - val_accuracy: 0.9233\n",
            "Epoch 5/15\n",
            "187091/187091 [==============================] - ETA: 0s - loss: 0.7388 - accuracy: 0.9274\n",
            "Epoch 00005: val_loss improved from 0.76765 to 0.73671, saving model to /content/drive/MyDrive/ML_2/project/weights-improvement-05-0.93.hdf5\n",
            "187091/187091 [==============================] - 95s 507us/sample - loss: 0.7388 - accuracy: 0.9274 - val_loss: 0.7367 - val_accuracy: 0.9275\n",
            "Epoch 6/15\n",
            "187091/187091 [==============================] - ETA: 0s - loss: 0.8396 - accuracy: 0.9179\n",
            "Epoch 00006: val_loss improved from 0.73671 to 0.70474, saving model to /content/drive/MyDrive/ML_2/project/weights-improvement-06-0.93.hdf5\n",
            "187091/187091 [==============================] - 95s 510us/sample - loss: 0.8396 - accuracy: 0.9179 - val_loss: 0.7047 - val_accuracy: 0.9309\n",
            "Epoch 7/15\n",
            "187091/187091 [==============================] - ETA: 0s - loss: 0.9386 - accuracy: 0.9080\n",
            "Epoch 00007: val_loss did not improve from 0.70474\n",
            "187091/187091 [==============================] - 95s 507us/sample - loss: 0.9386 - accuracy: 0.9080 - val_loss: 0.8940 - val_accuracy: 0.9107\n",
            "Epoch 8/15\n",
            "187091/187091 [==============================] - ETA: 0s - loss: 0.8040 - accuracy: 0.9212\n",
            "Epoch 00008: val_loss improved from 0.70474 to 0.68513, saving model to /content/drive/MyDrive/ML_2/project/weights-improvement-08-0.93.hdf5\n",
            "187091/187091 [==============================] - 95s 508us/sample - loss: 0.8040 - accuracy: 0.9212 - val_loss: 0.6851 - val_accuracy: 0.9331\n",
            "Epoch 9/15\n",
            "187091/187091 [==============================] - ETA: 0s - loss: 0.8446 - accuracy: 0.9174\n",
            "Epoch 00009: val_loss did not improve from 0.68513\n",
            "187091/187091 [==============================] - 95s 508us/sample - loss: 0.8446 - accuracy: 0.9174 - val_loss: 0.7038 - val_accuracy: 0.9310\n",
            "Epoch 10/15\n",
            "187091/187091 [==============================] - ETA: 0s - loss: 0.7948 - accuracy: 0.9227\n",
            "Epoch 00010: val_loss improved from 0.68513 to 0.67545, saving model to /content/drive/MyDrive/ML_2/project/weights-improvement-10-0.93.hdf5\n",
            "187091/187091 [==============================] - 95s 508us/sample - loss: 0.7948 - accuracy: 0.9227 - val_loss: 0.6755 - val_accuracy: 0.9342\n",
            "Epoch 11/15\n",
            "187091/187091 [==============================] - ETA: 0s - loss: 0.7794 - accuracy: 0.9242\n",
            "Epoch 00011: val_loss did not improve from 0.67545\n",
            "187091/187091 [==============================] - 95s 507us/sample - loss: 0.7794 - accuracy: 0.9242 - val_loss: 0.7465 - val_accuracy: 0.9261\n",
            "Epoch 12/15\n",
            "187091/187091 [==============================] - ETA: 0s - loss: 0.7231 - accuracy: 0.9297\n",
            "Epoch 00012: val_loss improved from 0.67545 to 0.64818, saving model to /content/drive/MyDrive/ML_2/project/weights-improvement-12-0.94.hdf5\n",
            "187091/187091 [==============================] - 95s 509us/sample - loss: 0.7231 - accuracy: 0.9297 - val_loss: 0.6482 - val_accuracy: 0.9367\n",
            "Epoch 13/15\n",
            "187091/187091 [==============================] - ETA: 0s - loss: 0.6974 - accuracy: 0.9329\n",
            "Epoch 00013: val_loss did not improve from 0.64818\n",
            "187091/187091 [==============================] - 95s 507us/sample - loss: 0.6974 - accuracy: 0.9329 - val_loss: 1.3413 - val_accuracy: 0.8625\n",
            "Epoch 14/15\n",
            "187091/187091 [==============================] - ETA: 0s - loss: 0.7894 - accuracy: 0.9233\n",
            "Epoch 00014: val_loss improved from 0.64818 to 0.64730, saving model to /content/drive/MyDrive/ML_2/project/weights-improvement-14-0.94.hdf5\n",
            "187091/187091 [==============================] - 95s 508us/sample - loss: 0.7894 - accuracy: 0.9233 - val_loss: 0.6473 - val_accuracy: 0.9370\n",
            "Epoch 15/15\n",
            "187091/187091 [==============================] - ETA: 0s - loss: 0.6717 - accuracy: 0.9350\n",
            "Epoch 00015: val_loss did not improve from 0.64730\n",
            "187091/187091 [==============================] - 95s 507us/sample - loss: 0.6717 - accuracy: 0.9350 - val_loss: 0.7350 - val_accuracy: 0.9277\n"
          ],
          "name": "stdout"
        },
        {
          "output_type": "execute_result",
          "data": {
            "text/plain": [
              "<tensorflow.python.keras.callbacks.History at 0x7f64145a4160>"
            ]
          },
          "metadata": {
            "tags": []
          },
          "execution_count": 122
        }
      ]
    },
    {
      "cell_type": "code",
      "metadata": {
        "colab": {
          "base_uri": "https://localhost:8080/"
        },
        "id": "QenSnHI7dfQv",
        "outputId": "848656e9-4503-4b29-b0cd-b5ec2af0bfe2"
      },
      "source": [
        "model.autoencoder.fit(\r\n",
        "         X_train,\r\n",
        "         Y_train,\r\n",
        "         shuffle = True,\r\n",
        "         epochs = 15,\r\n",
        "         batch_size = 1200,\r\n",
        "        callbacks = [checkpointer, reduce_lr],\r\n",
        "        validation_data = (X_test,Y_test))"
      ],
      "execution_count": 132,
      "outputs": [
        {
          "output_type": "stream",
          "text": [
            "Train on 187091 samples, validate on 62364 samples\n",
            "Epoch 1/15\n",
            "187091/187091 [==============================] - ETA: 0s - loss: 0.5812 - accuracy: 0.9438\n",
            "Epoch 00001: val_loss improved from inf to 0.57225, saving model to /content/drive/MyDrive/ML_2/project/best_model.h5\n",
            "187091/187091 [==============================] - 95s 508us/sample - loss: 0.5812 - accuracy: 0.9438 - val_loss: 0.5723 - val_accuracy: 0.9445\n",
            "Epoch 2/15\n",
            "187091/187091 [==============================] - ETA: 0s - loss: 0.7543 - accuracy: 0.9272\n",
            "Epoch 00002: val_loss improved from 0.57225 to 0.56193, saving model to /content/drive/MyDrive/ML_2/project/best_model.h5\n",
            "187091/187091 [==============================] - 97s 521us/sample - loss: 0.7543 - accuracy: 0.9272 - val_loss: 0.5619 - val_accuracy: 0.9457\n",
            "Epoch 3/15\n",
            "187091/187091 [==============================] - ETA: 0s - loss: 0.6871 - accuracy: 0.9339\n",
            "Epoch 00003: val_loss improved from 0.56193 to 0.54938, saving model to /content/drive/MyDrive/ML_2/project/best_model.h5\n",
            "187091/187091 [==============================] - 97s 520us/sample - loss: 0.6871 - accuracy: 0.9339 - val_loss: 0.5494 - val_accuracy: 0.9472\n",
            "Epoch 4/15\n",
            "187091/187091 [==============================] - ETA: 0s - loss: 0.6919 - accuracy: 0.9338\n",
            "Epoch 00004: val_loss improved from 0.54938 to 0.54300, saving model to /content/drive/MyDrive/ML_2/project/best_model.h5\n",
            "187091/187091 [==============================] - 97s 521us/sample - loss: 0.6919 - accuracy: 0.9338 - val_loss: 0.5430 - val_accuracy: 0.9481\n",
            "Epoch 5/15\n",
            "187091/187091 [==============================] - ETA: 0s - loss: 0.6541 - accuracy: 0.9372\n",
            "Epoch 00005: val_loss improved from 0.54300 to 0.53510, saving model to /content/drive/MyDrive/ML_2/project/best_model.h5\n",
            "187091/187091 [==============================] - 97s 518us/sample - loss: 0.6541 - accuracy: 0.9372 - val_loss: 0.5351 - val_accuracy: 0.9487\n",
            "Epoch 6/15\n",
            "187091/187091 [==============================] - ETA: 0s - loss: 0.6541 - accuracy: 0.9376\n",
            "Epoch 00006: val_loss improved from 0.53510 to 0.53071, saving model to /content/drive/MyDrive/ML_2/project/best_model.h5\n",
            "187091/187091 [==============================] - 97s 521us/sample - loss: 0.6541 - accuracy: 0.9376 - val_loss: 0.5307 - val_accuracy: 0.9493\n",
            "Epoch 7/15\n",
            "187091/187091 [==============================] - ETA: 0s - loss: 0.5629 - accuracy: 0.9463\n",
            "Epoch 00007: val_loss improved from 0.53071 to 0.50691, saving model to /content/drive/MyDrive/ML_2/project/best_model.h5\n",
            "187091/187091 [==============================] - 97s 519us/sample - loss: 0.5629 - accuracy: 0.9463 - val_loss: 0.5069 - val_accuracy: 0.9517\n",
            "Epoch 8/15\n",
            "187091/187091 [==============================] - ETA: 0s - loss: 0.5785 - accuracy: 0.9450\n",
            "Epoch 00008: val_loss improved from 0.50691 to 0.49867, saving model to /content/drive/MyDrive/ML_2/project/best_model.h5\n",
            "187091/187091 [==============================] - 98s 521us/sample - loss: 0.5785 - accuracy: 0.9450 - val_loss: 0.4987 - val_accuracy: 0.9526\n",
            "Epoch 9/15\n",
            "187091/187091 [==============================] - ETA: 0s - loss: 0.6008 - accuracy: 0.9431\n",
            "Epoch 00009: val_loss did not improve from 0.49867\n",
            "187091/187091 [==============================] - 95s 507us/sample - loss: 0.6008 - accuracy: 0.9431 - val_loss: 0.5346 - val_accuracy: 0.9489\n",
            "Epoch 10/15\n",
            "187091/187091 [==============================] - ETA: 0s - loss: 0.6166 - accuracy: 0.9417\n",
            "Epoch 00010: val_loss improved from 0.49867 to 0.48489, saving model to /content/drive/MyDrive/ML_2/project/best_model.h5\n",
            "187091/187091 [==============================] - 98s 522us/sample - loss: 0.6166 - accuracy: 0.9417 - val_loss: 0.4849 - val_accuracy: 0.9540\n",
            "Epoch 11/15\n",
            "187091/187091 [==============================] - ETA: 0s - loss: 0.5479 - accuracy: 0.9482\n",
            "Epoch 00011: val_loss improved from 0.48489 to 0.47174, saving model to /content/drive/MyDrive/ML_2/project/best_model.h5\n",
            "187091/187091 [==============================] - 97s 521us/sample - loss: 0.5479 - accuracy: 0.9482 - val_loss: 0.4717 - val_accuracy: 0.9553\n",
            "Epoch 12/15\n",
            "187091/187091 [==============================] - ETA: 0s - loss: 0.5703 - accuracy: 0.9463\n",
            "Epoch 00012: val_loss improved from 0.47174 to 0.46077, saving model to /content/drive/MyDrive/ML_2/project/best_model.h5\n",
            "187091/187091 [==============================] - 98s 521us/sample - loss: 0.5703 - accuracy: 0.9463 - val_loss: 0.4608 - val_accuracy: 0.9565\n",
            "Epoch 13/15\n",
            "187091/187091 [==============================] - ETA: 0s - loss: 0.5542 - accuracy: 0.9480\n",
            "Epoch 00013: val_loss improved from 0.46077 to 0.45470, saving model to /content/drive/MyDrive/ML_2/project/best_model.h5\n",
            "187091/187091 [==============================] - 97s 521us/sample - loss: 0.5542 - accuracy: 0.9480 - val_loss: 0.4547 - val_accuracy: 0.9572\n",
            "Epoch 14/15\n",
            "187091/187091 [==============================] - ETA: 0s - loss: 0.5631 - accuracy: 0.9472\n",
            "Epoch 00014: val_loss improved from 0.45470 to 0.45435, saving model to /content/drive/MyDrive/ML_2/project/best_model.h5\n",
            "187091/187091 [==============================] - 97s 520us/sample - loss: 0.5631 - accuracy: 0.9472 - val_loss: 0.4544 - val_accuracy: 0.9574\n",
            "Epoch 15/15\n",
            "187091/187091 [==============================] - ETA: 0s - loss: 0.6172 - accuracy: 0.9421\n",
            "Epoch 00015: val_loss did not improve from 0.45435\n",
            "187091/187091 [==============================] - 95s 507us/sample - loss: 0.6172 - accuracy: 0.9421 - val_loss: 0.4649 - val_accuracy: 0.9562\n"
          ],
          "name": "stdout"
        },
        {
          "output_type": "execute_result",
          "data": {
            "text/plain": [
              "<tensorflow.python.keras.callbacks.History at 0x7f6414ea7c88>"
            ]
          },
          "metadata": {
            "tags": []
          },
          "execution_count": 132
        }
      ]
    },
    {
      "cell_type": "markdown",
      "metadata": {
        "id": "1seBOL0jmLLX"
      },
      "source": [
        "Saved 5 diff models after each batch run for loading and testing "
      ]
    },
    {
      "cell_type": "code",
      "metadata": {
        "id": "2VCuFkeZLUCY"
      },
      "source": [
        "model.save('VAE_Drug_model_V.h5') "
      ],
      "execution_count": 123,
      "outputs": []
    },
    {
      "cell_type": "markdown",
      "metadata": {
        "id": "bz55LF1nmS-3"
      },
      "source": [
        "Creating the latent space"
      ]
    },
    {
      "cell_type": "code",
      "metadata": {
        "colab": {
          "base_uri": "https://localhost:8080/"
        },
        "id": "TDLvJMXvAQ9C",
        "outputId": "ef7d378e-edab-4e3e-cebe-36decf7bae9f"
      },
      "source": [
        "Z_mean = model.encoder.predict(X_test)"
      ],
      "execution_count": 83,
      "outputs": [
        {
          "output_type": "stream",
          "text": [
            "/usr/local/lib/python3.6/dist-packages/tensorflow/python/keras/engine/training.py:2325: UserWarning: `Model.state_updates` will be removed in a future version. This property should not be used in TensorFlow 2.0, as `updates` are applied automatically.\n",
            "  warnings.warn('`Model.state_updates` will be removed in a future version. '\n"
          ],
          "name": "stderr"
        }
      ]
    },
    {
      "cell_type": "code",
      "metadata": {
        "colab": {
          "base_uri": "https://localhost:8080/"
        },
        "id": "feSkRiU8CMH_",
        "outputId": "b6ed2745-71f0-4edf-e473-32b637869545"
      },
      "source": [
        "Z_mean.shape"
      ],
      "execution_count": 68,
      "outputs": [
        {
          "output_type": "execute_result",
          "data": {
            "text/plain": [
              "(62364, 114)"
            ]
          },
          "metadata": {
            "tags": []
          },
          "execution_count": 68
        }
      ]
    },
    {
      "cell_type": "code",
      "metadata": {
        "colab": {
          "base_uri": "https://localhost:8080/"
        },
        "id": "oPSY0QfHFGYK",
        "outputId": "cb68e681-ff2d-4a6e-a497-a5fe3e6c53cb"
      },
      "source": [
        "Y_test.shape"
      ],
      "execution_count": 69,
      "outputs": [
        {
          "output_type": "execute_result",
          "data": {
            "text/plain": [
              "(62364, 114, 58)"
            ]
          },
          "metadata": {
            "tags": []
          },
          "execution_count": 69
        }
      ]
    },
    {
      "cell_type": "code",
      "metadata": {
        "id": "I1wIX8sSuDnf"
      },
      "source": [
        "from rdkit.Chem import Draw, Descriptors"
      ],
      "execution_count": 79,
      "outputs": []
    },
    {
      "cell_type": "code",
      "metadata": {
        "id": "EiyycyIPr2up"
      },
      "source": [
        "logp = smiles_test.apply(Chem.MolFromSmiles).apply(Descriptors.MolLogP)"
      ],
      "execution_count": 80,
      "outputs": []
    },
    {
      "cell_type": "markdown",
      "metadata": {
        "id": "3VnBvU7lmWtL"
      },
      "source": [
        "Plotting the latent space of molecules "
      ]
    },
    {
      "cell_type": "code",
      "metadata": {
        "colab": {
          "base_uri": "https://localhost:8080/",
          "height": 606
        },
        "id": "5f0tuNu997J-",
        "outputId": "57b42e85-d3ee-4cc6-c43e-3bb8b201c27d"
      },
      "source": [
        "\r\n",
        "#Plot dim1 and dim2 for mu\r\n",
        "plt.figure(figsize=(10, 10))\r\n",
        "plt.scatter(Z_mean[:, 0], Z_mean[:, 1],c=logp ,cmap='brg')\r\n",
        "plt.xlabel('dim 1')\r\n",
        "plt.ylabel('dim 2')\r\n",
        "plt.colorbar()\r\n",
        "plt.show()"
      ],
      "execution_count": 84,
      "outputs": [
        {
          "output_type": "display_data",
          "data": {
            "image/png": "[encoded data removed]",
            "text/plain": [
              "<Figure size 720x720 with 2 Axes>"
            ]
          },
          "metadata": {
            "tags": [],
            "needs_background": "light"
          }
        }
      ]
    },
    {
      "cell_type": "markdown",
      "metadata": {
        "id": "lori7GnQmjyX"
      },
      "source": [
        "Loading best saved model for generating molecules "
      ]
    },
    {
      "cell_type": "code",
      "metadata": {
        "id": "68Nn8hxsj3eE"
      },
      "source": [
        "model1 = MoleculeVAE()"
      ],
      "execution_count": 54,
      "outputs": []
    },
    {
      "cell_type": "code",
      "metadata": {
        "id": "bPjL8V_nkeFR"
      },
      "source": [
        "trained_model = '/content/drive/MyDrive/ML_2/project/new_best_model.h5'"
      ],
      "execution_count": 55,
      "outputs": []
    },
    {
      "cell_type": "code",
      "metadata": {
        "colab": {
          "base_uri": "https://localhost:8080/"
        },
        "id": "OJSEoLvIkYtn",
        "outputId": "121b3cb3-827f-4a9a-8102-92699cf9ab80"
      },
      "source": [
        "model1.load(charset, trained_model, latent_rep_size = 114)"
      ],
      "execution_count": 58,
      "outputs": [
        {
          "output_type": "stream",
          "text": [
            "WARNING:tensorflow:Layer gru_1 will not use cuDNN kernel since it doesn't meet the cuDNN kernel criteria. It will use generic GPU kernel as fallback when running on GPU\n",
            "WARNING:tensorflow:Layer gru_2 will not use cuDNN kernel since it doesn't meet the cuDNN kernel criteria. It will use generic GPU kernel as fallback when running on GPU\n",
            "WARNING:tensorflow:Layer gru_3 will not use cuDNN kernel since it doesn't meet the cuDNN kernel criteria. It will use generic GPU kernel as fallback when running on GPU\n",
            "WARNING:tensorflow:Layer gru_1 will not use cuDNN kernel since it doesn't meet the cuDNN kernel criteria. It will use generic GPU kernel as fallback when running on GPU\n",
            "WARNING:tensorflow:Layer gru_2 will not use cuDNN kernel since it doesn't meet the cuDNN kernel criteria. It will use generic GPU kernel as fallback when running on GPU\n",
            "WARNING:tensorflow:Layer gru_3 will not use cuDNN kernel since it doesn't meet the cuDNN kernel criteria. It will use generic GPU kernel as fallback when running on GPU\n"
          ],
          "name": "stdout"
        }
      ]
    },
    {
      "cell_type": "code",
      "metadata": {
        "colab": {
          "base_uri": "https://localhost:8080/",
          "height": 35
        },
        "id": "GfmsRujW_I0e",
        "outputId": "0654f782-c7b2-4f99-ee1d-775d8e99ce1c"
      },
      "source": [
        "test_sample = 'CC(C)(C)c1ccc2occ(CC(=O)Nc3ccccc3F)c2c1'\r\n",
        "\r\n",
        "test_sample"
      ],
      "execution_count": 59,
      "outputs": [
        {
          "output_type": "execute_result",
          "data": {
            "application/vnd.google.colaboratory.intrinsic+json": {
              "type": "string"
            },
            "text/plain": [
              "'CC(C)(C)c1ccc2occ(CC(=O)Nc3ccccc3F)c2c1'"
            ]
          },
          "metadata": {
            "tags": []
          },
          "execution_count": 59
        }
      ]
    },
    {
      "cell_type": "code",
      "metadata": {
        "colab": {
          "base_uri": "https://localhost:8080/"
        },
        "id": "Gnjw-bzJGdEr",
        "outputId": "a4a00d4f-44fa-43d7-c2d9-08f12443cfaf"
      },
      "source": [
        "test_latent = encode_smiles(test_sample, model1, charset)\r\n",
        "test_latent.size"
      ],
      "execution_count": 60,
      "outputs": [
        {
          "output_type": "stream",
          "text": [
            "/usr/local/lib/python3.6/dist-packages/tensorflow/python/keras/engine/training.py:2325: UserWarning: `Model.state_updates` will be removed in a future version. This property should not be used in TensorFlow 2.0, as `updates` are applied automatically.\n",
            "  warnings.warn('`Model.state_updates` will be removed in a future version. '\n"
          ],
          "name": "stderr"
        },
        {
          "output_type": "execute_result",
          "data": {
            "text/plain": [
              "114"
            ]
          },
          "metadata": {
            "tags": []
          },
          "execution_count": 60
        }
      ]
    },
    {
      "cell_type": "code",
      "metadata": {
        "colab": {
          "base_uri": "https://localhost:8080/"
        },
        "id": "P32cUocsyxZt",
        "outputId": "13d74843-17fa-4fa8-c981-e682c0720517"
      },
      "source": [
        "test_latent"
      ],
      "execution_count": 61,
      "outputs": [
        {
          "output_type": "execute_result",
          "data": {
            "text/plain": [
              "array([[ 2.6943812e-01,  4.4802862e-01,  6.9935143e-01, -1.3222426e-01,\n",
              "        -1.0009681e+00, -1.0238763e+00, -4.9647033e-01,  9.7381091e-01,\n",
              "        -5.8185661e-01,  7.1797502e-01, -1.1016978e+00, -3.3689213e-01,\n",
              "        -9.1568120e-02,  3.1968614e-01, -8.2250893e-02,  1.2293563e+00,\n",
              "        -2.6550403e-01,  3.2556346e-03, -4.2492497e-01, -1.3270947e+00,\n",
              "         7.1313989e-01,  1.4448118e+00, -2.2483233e-01, -2.1228179e-01,\n",
              "        -9.5282108e-01,  1.5468325e-01, -4.3868098e-02, -4.1603562e-01,\n",
              "         1.7389815e-01,  4.0020490e-01, -2.1981010e-01, -8.8252969e-02,\n",
              "         1.1269593e+00, -3.2735610e-01,  1.7266257e-01, -7.9779774e-02,\n",
              "        -7.7878034e-01,  7.8688401e-01,  3.7923267e-01, -6.2484551e-02,\n",
              "        -5.7870579e-01, -5.4256804e-04,  1.3275197e-01, -6.3895985e-02,\n",
              "        -1.0216132e+00, -6.2782842e-01, -6.1507430e-02, -3.0398117e-02,\n",
              "        -6.0013634e-01, -2.3300819e-02, -1.0248888e+00, -8.8183290e-01,\n",
              "        -6.6360348e-01, -3.0385172e-01, -3.5216865e-01, -1.8752995e-01,\n",
              "        -8.5785352e-02, -1.2890995e-01,  1.0652457e+00, -1.0559481e+00,\n",
              "        -1.1729375e+00, -8.4464562e-01, -6.9445133e-02, -6.3617630e-03,\n",
              "         9.0211862e-01, -1.5108003e-01,  8.5416310e-02, -1.1813930e+00,\n",
              "         4.1262487e-01,  7.9726738e-01, -1.0015085e+00,  5.5205595e-01,\n",
              "        -1.3883901e-01,  3.1483808e-01, -4.4188207e-01,  2.6013759e-01,\n",
              "        -6.0062510e-01,  8.4177589e-01,  7.4040920e-02, -1.7909527e-01,\n",
              "        -7.2551541e-02,  1.1791281e-01,  7.7647798e-02, -1.2444323e+00,\n",
              "         5.4230444e-02, -3.0431932e-01,  1.3318371e+00, -4.8001993e-01,\n",
              "         1.8814114e-01,  1.2882185e-01,  3.0627063e-01, -3.3506840e-01,\n",
              "         3.5230038e-01,  9.7244489e-01,  1.0294955e+00, -8.0255318e-01,\n",
              "        -2.5572041e-02,  1.2923624e-01,  2.0635755e-01,  8.2585558e-02,\n",
              "        -4.8638549e-01, -7.2807819e-04,  5.6422967e-01, -1.1829750e-01,\n",
              "        -1.3363318e-01,  1.2784027e+00, -6.5891407e-02,  1.2261010e+00,\n",
              "        -3.8502389e-01,  9.2760533e-01,  1.0739330e-01,  3.0039094e-02,\n",
              "         2.1217023e-01,  5.2365369e-01]], dtype=float32)"
            ]
          },
          "metadata": {
            "tags": []
          },
          "execution_count": 61
        }
      ]
    },
    {
      "cell_type": "code",
      "metadata": {
        "id": "LWdsZZczFOGW"
      },
      "source": [
        "latent_dim = 114"
      ],
      "execution_count": 63,
      "outputs": []
    },
    {
      "cell_type": "code",
      "metadata": {
        "colab": {
          "base_uri": "https://localhost:8080/",
          "height": 89
        },
        "id": "Kh0DTDIWC0yI",
        "outputId": "962f1bb4-c7fc-467f-a85f-52ff4e68a5e4"
      },
      "source": [
        "reconstructed_test = decode_latent_molecule(test_latent,model1,charset,latent_dim)\r\n",
        "original = Chem.MolFromSmiles(test_sample)\r\n",
        "\r\n",
        "reconstructed_test"
      ],
      "execution_count": 64,
      "outputs": [
        {
          "output_type": "stream",
          "text": [
            "/usr/local/lib/python3.6/dist-packages/tensorflow/python/keras/engine/training.py:2325: UserWarning: `Model.state_updates` will be removed in a future version. This property should not be used in TensorFlow 2.0, as `updates` are applied automatically.\n",
            "  warnings.warn('`Model.state_updates` will be removed in a future version. '\n"
          ],
          "name": "stderr"
        },
        {
          "output_type": "execute_result",
          "data": {
            "application/vnd.google.colaboratory.intrinsic+json": {
              "type": "string"
            },
            "text/plain": [
              "')(C\\n\\nc=Nooc\\n)(CC\\nc!o)(#CI#-oCI@C\\n\\n)(#Co-#CC#-oCCE@@)))#C)(#C)))C)EEEEEEEEEEE))))))))))))))))ooooEEEE@@OOOOOOOOOO'"
            ]
          },
          "metadata": {
            "tags": []
          },
          "execution_count": 64
        }
      ]
    },
    {
      "cell_type": "markdown",
      "metadata": {
        "id": "4xwOhT41mqQz"
      },
      "source": [
        "The reconstructed molecule doesnt give good results as it doesnt resemble the original model "
      ]
    },
    {
      "cell_type": "code",
      "metadata": {
        "colab": {
          "base_uri": "https://localhost:8080/"
        },
        "id": "ioS2_DWH8Cb1",
        "outputId": "d85761e5-8a9c-40a6-ba70-11faa5944cc2"
      },
      "source": [
        "paracetamol_smiles = 'CC(=O)Nc1ccc(O)cc1'\r\n",
        "celecoxib_smiles = 'Cc1ccc(cc1)c2cc(nn2c3ccc(cc3)S(=O)(=O)N)C(F)(F)F'\r\n",
        "\r\n",
        "steps = 10\r\n",
        "results = interpolate(paracetamol_smiles, celecoxib_smiles, steps, charset, model1, latent_dim)\r\n",
        "                \r\n",
        "for result in results:\r\n",
        "  print(result)"
      ],
      "execution_count": 75,
      "outputs": [
        {
          "output_type": "stream",
          "text": [
            ")\n",
            "CCI\n",
            "H=o@\n",
            "(\n",
            "cs)(#s((#C)(#C)(#)((#CI#-oC)#-oC)#--c)(#C))(#C))#CC(@CE@E@E))))))FFFFFFF))IIII))EEEEEEEEOOOOOOOOOO\n",
            ")\n",
            "C\n",
            "I\n",
            "H=o@\n",
            "(\n",
            "#s)(#s(#sC(##C)(#)((#CI#-oC)#--C)##-c)(#C))(#C)))C)(CCE@E@EE))))))FFFFFF)))III))EEEEEEEEOOOOOOOOOO\n",
            ")\n",
            "C\n",
            "IcH=o@\n",
            "\n",
            "\n",
            "#\n",
            ")(#C(#s)(##C(#C)(#C(#C-#-CC)-#CI#--C)(#C))(CC))CCC@CE@@EEE))))))))FFF)))))II)))EEEEEEEOOOOOOOOOO\n",
            ")\n",
            "c\n",
            "Ic=N!o\n",
            "6@\n",
            "\n",
            ")(#C(#C)(#C)(#C)(#C(#--oCI#-oC)##-oC)(#C)(#C))#C)@CE@@EEEEE))))))))))))))))))))EEEEEEEEOOOOOOOOO\n",
            "@)\n",
            "c\n",
            "Ic=N!o\n",
            "(@\n",
            "\n",
            ")(#C(sC)(#C)(#C\n",
            ")(#CI#-oCI#--C)(#-c)((CC)(#C))#C)ECE@EEEEEE)))))))))))))))III)ooEEEEEEEOOOOOOOOO\n",
            "@)\n",
            "c\n",
            "Ic=N!o\n",
            "(@C\n",
            ")(#C((C)(#C6)\n",
            "C))((#C--oCI#--C)(#-oC)(#C)(#C)))C)EEEEEEEEEE)))))))))))))))IIIIooEEEEEEEOOOOOOOOO\n",
            "@\n",
            "\n",
            "c\n",
            "Ic=!!o\n",
            "(@\n",
            "\n",
            "((#-ssC(##C66\n",
            "C))(##C--oCI#--C)(#-oC)(#C)(#C)))C)EEEEEEEEEEE)))))))))))))IIIIIIoEEEEEEEOOOOOOOOO\n",
            "@\n",
            "\n",
            "\n",
            "\n",
            "\n",
            "c!!oo(\n",
            "C\n",
            ")(#CI--C)(#C\n",
            "@\n",
            "\n",
            "[)(#CE--oCC#--oCI#-oC)(#C)(#C))))EEEEEEEEEEEE)))))))))))))IIIIIIoEEEEEEEOOOOOOOOO\n",
            "@\n",
            "\n",
            "\n",
            "\n",
            "cc!!ooN(C\n",
            ")(#C#--C)(#C\n",
            "6\n",
            "\n",
            "\n",
            ")(#CE@C-(#C)--oCI@--c)(#C))#C)))EEEEEEEEEEEE)))))))))))))IIIIIIoEEEEEEEOOOOOOOOO\n",
            "@\n",
            "\n",
            "\n",
            "\n",
            "c!!oNNNCC)(#CI#-oC)(#C\n",
            "\n",
            "N!oo[(CE@@\n",
            "(oC)--oCI@#-c)(#C))#C)))EEEEEEEEEEEE)))))))))))))IIIIIIEEEEEEEE]OOOOOOOO\n"
          ],
          "name": "stdout"
        }
      ]
    },
    {
      "cell_type": "code",
      "metadata": {
        "colab": {
          "base_uri": "https://localhost:8080/"
        },
        "id": "uYpC39aZC0vV",
        "outputId": "f1289a5f-fc3c-41e5-ae3e-829f10c5e2f5"
      },
      "source": [
        "model.create(charset, latent_rep_size)\r\n",
        "\r\n",
        "checkpointer = ModelCheckpoint(filepath = '/content/drive/MyDrive/ML_2/project/new_best_model.h5',\r\n",
        "                                   verbose = 1,\r\n",
        "                                   save_best_only = True)\r\n",
        "\r\n",
        "reduce_lr = ReduceLROnPlateau(monitor = 'val_loss',\r\n",
        "                                  factor = 0.2,\r\n",
        "                                  patience = 3,\r\n",
        "                                  min_lr = 0.0001)\r\n",
        "\r\n",
        "model.autoencoder.fit(\r\n",
        "         X_train,\r\n",
        "         Y_train,\r\n",
        "         shuffle = True,\r\n",
        "         epochs = 5,\r\n",
        "         batch_size = 1000,\r\n",
        "        callbacks = [checkpointer, reduce_lr],\r\n",
        "        validation_data = (X_test,Y_test))"
      ],
      "execution_count": 216,
      "outputs": [
        {
          "output_type": "stream",
          "text": [
            "WARNING:tensorflow:Layer gru_1 will not use cuDNN kernel since it doesn't meet the cuDNN kernel criteria. It will use generic GPU kernel as fallback when running on GPU\n",
            "WARNING:tensorflow:Layer gru_2 will not use cuDNN kernel since it doesn't meet the cuDNN kernel criteria. It will use generic GPU kernel as fallback when running on GPU\n",
            "WARNING:tensorflow:Layer gru_3 will not use cuDNN kernel since it doesn't meet the cuDNN kernel criteria. It will use generic GPU kernel as fallback when running on GPU\n",
            "WARNING:tensorflow:Layer gru_1 will not use cuDNN kernel since it doesn't meet the cuDNN kernel criteria. It will use generic GPU kernel as fallback when running on GPU\n",
            "WARNING:tensorflow:Layer gru_2 will not use cuDNN kernel since it doesn't meet the cuDNN kernel criteria. It will use generic GPU kernel as fallback when running on GPU\n",
            "WARNING:tensorflow:Layer gru_3 will not use cuDNN kernel since it doesn't meet the cuDNN kernel criteria. It will use generic GPU kernel as fallback when running on GPU\n",
            "Train on 187091 samples, validate on 62364 samples\n",
            "Epoch 1/5\n",
            "187091/187091 [==============================] - ETA: 0s - loss: 5.2616 - accuracy: 0.6580"
          ],
          "name": "stdout"
        },
        {
          "output_type": "stream",
          "text": [
            "/usr/local/lib/python3.6/dist-packages/tensorflow/python/keras/engine/training.py:2325: UserWarning: `Model.state_updates` will be removed in a future version. This property should not be used in TensorFlow 2.0, as `updates` are applied automatically.\n",
            "  warnings.warn('`Model.state_updates` will be removed in a future version. '\n"
          ],
          "name": "stderr"
        },
        {
          "output_type": "stream",
          "text": [
            "\n",
            "Epoch 00001: val_loss improved from inf to 4.46655, saving model to /content/drive/MyDrive/ML_2/project/new_best_model.h5\n",
            "187091/187091 [==============================] - 108s 579us/sample - loss: 5.2616 - accuracy: 0.6580 - val_loss: 4.4665 - val_accuracy: 0.6793\n",
            "Epoch 2/5\n",
            "187091/187091 [==============================] - ETA: 0s - loss: 4.2398 - accuracy: 0.6887\n",
            "Epoch 00002: val_loss improved from 4.46655 to 4.07643, saving model to /content/drive/MyDrive/ML_2/project/new_best_model.h5\n",
            "187091/187091 [==============================] - 96s 513us/sample - loss: 4.2398 - accuracy: 0.6887 - val_loss: 4.0764 - val_accuracy: 0.6938\n",
            "Epoch 3/5\n",
            "187091/187091 [==============================] - ETA: 0s - loss: 4.0968 - accuracy: 0.6958\n",
            "Epoch 00003: val_loss improved from 4.07643 to 3.99533, saving model to /content/drive/MyDrive/ML_2/project/new_best_model.h5\n",
            "187091/187091 [==============================] - 97s 516us/sample - loss: 4.0968 - accuracy: 0.6958 - val_loss: 3.9953 - val_accuracy: 0.7065\n",
            "Epoch 4/5\n",
            "187091/187091 [==============================] - ETA: 0s - loss: 4.0364 - accuracy: 0.7062\n",
            "Epoch 00004: val_loss improved from 3.99533 to 3.91950, saving model to /content/drive/MyDrive/ML_2/project/new_best_model.h5\n",
            "187091/187091 [==============================] - 97s 518us/sample - loss: 4.0364 - accuracy: 0.7062 - val_loss: 3.9195 - val_accuracy: 0.7126\n",
            "Epoch 5/5\n",
            "187091/187091 [==============================] - ETA: 0s - loss: 3.9544 - accuracy: 0.7134\n",
            "Epoch 00005: val_loss improved from 3.91950 to 3.91662, saving model to /content/drive/MyDrive/ML_2/project/new_best_model.h5\n",
            "187091/187091 [==============================] - 97s 516us/sample - loss: 3.9544 - accuracy: 0.7134 - val_loss: 3.9166 - val_accuracy: 0.7138\n"
          ],
          "name": "stdout"
        },
        {
          "output_type": "execute_result",
          "data": {
            "text/plain": [
              "<tensorflow.python.keras.callbacks.History at 0x7f6408d047f0>"
            ]
          },
          "metadata": {
            "tags": []
          },
          "execution_count": 216
        }
      ]
    },
    {
      "cell_type": "code",
      "metadata": {
        "colab": {
          "base_uri": "https://localhost:8080/"
        },
        "id": "pypXoV3XC0sF",
        "outputId": "fe55d82d-eede-4db4-8473-bf2dcce593e8"
      },
      "source": [
        "model.autoencoder.fit(\r\n",
        "         X_train,\r\n",
        "         Y_train,\r\n",
        "         shuffle = True,\r\n",
        "         epochs = 20,\r\n",
        "         batch_size = 1200,\r\n",
        "        callbacks = [checkpointer, reduce_lr],\r\n",
        "        validation_data = (X_test,Y_test))"
      ],
      "execution_count": 241,
      "outputs": [
        {
          "output_type": "stream",
          "text": [
            "Train on 187091 samples, validate on 62364 samples\n",
            "Epoch 1/20\n",
            "187091/187091 [==============================] - ETA: 0s - loss: 3.8754 - accuracy: 0.7210\n",
            "Epoch 00001: val_loss improved from 3.91662 to 3.77259, saving model to /content/drive/MyDrive/ML_2/project/new_best_model.h5\n",
            "187091/187091 [==============================] - 93s 499us/sample - loss: 3.8754 - accuracy: 0.7210 - val_loss: 3.7726 - val_accuracy: 0.7243\n",
            "Epoch 2/20\n",
            "187091/187091 [==============================] - ETA: 0s - loss: 3.7438 - accuracy: 0.7298\n",
            "Epoch 00002: val_loss improved from 3.77259 to 3.70479, saving model to /content/drive/MyDrive/ML_2/project/new_best_model.h5\n",
            "187091/187091 [==============================] - 96s 511us/sample - loss: 3.7438 - accuracy: 0.7298 - val_loss: 3.7048 - val_accuracy: 0.7276\n",
            "Epoch 3/20\n",
            "187091/187091 [==============================] - ETA: 0s - loss: 3.6666 - accuracy: 0.7349\n",
            "Epoch 00003: val_loss improved from 3.70479 to 3.55235, saving model to /content/drive/MyDrive/ML_2/project/new_best_model.h5\n",
            "187091/187091 [==============================] - 96s 510us/sample - loss: 3.6666 - accuracy: 0.7349 - val_loss: 3.5523 - val_accuracy: 0.7474\n",
            "Epoch 4/20\n",
            "187091/187091 [==============================] - ETA: 0s - loss: 3.5466 - accuracy: 0.7424\n",
            "Epoch 00004: val_loss did not improve from 3.55235\n",
            "187091/187091 [==============================] - 93s 498us/sample - loss: 3.5466 - accuracy: 0.7424 - val_loss: 3.5695 - val_accuracy: 0.7373\n",
            "Epoch 5/20\n",
            "187091/187091 [==============================] - ETA: 0s - loss: 3.4940 - accuracy: 0.7451\n",
            "Epoch 00005: val_loss did not improve from 3.55235\n",
            "187091/187091 [==============================] - 93s 497us/sample - loss: 3.4940 - accuracy: 0.7451 - val_loss: 3.5703 - val_accuracy: 0.7316\n",
            "Epoch 6/20\n",
            "187091/187091 [==============================] - ETA: 0s - loss: 3.3718 - accuracy: 0.7514\n",
            "Epoch 00006: val_loss improved from 3.55235 to 3.37188, saving model to /content/drive/MyDrive/ML_2/project/new_best_model.h5\n",
            "187091/187091 [==============================] - 96s 511us/sample - loss: 3.3718 - accuracy: 0.7514 - val_loss: 3.3719 - val_accuracy: 0.7526\n",
            "Epoch 7/20\n",
            "187091/187091 [==============================] - ETA: 0s - loss: 3.2337 - accuracy: 0.7610\n",
            "Epoch 00007: val_loss improved from 3.37188 to 3.16517, saving model to /content/drive/MyDrive/ML_2/project/new_best_model.h5\n",
            "187091/187091 [==============================] - 96s 511us/sample - loss: 3.2337 - accuracy: 0.7610 - val_loss: 3.1652 - val_accuracy: 0.7657\n",
            "Epoch 8/20\n",
            "187091/187091 [==============================] - ETA: 0s - loss: 3.1337 - accuracy: 0.7696\n",
            "Epoch 00008: val_loss improved from 3.16517 to 3.02814, saving model to /content/drive/MyDrive/ML_2/project/new_best_model.h5\n",
            "187091/187091 [==============================] - 96s 511us/sample - loss: 3.1337 - accuracy: 0.7696 - val_loss: 3.0281 - val_accuracy: 0.7775\n",
            "Epoch 9/20\n",
            "187091/187091 [==============================] - ETA: 0s - loss: 2.9810 - accuracy: 0.7824\n",
            "Epoch 00009: val_loss improved from 3.02814 to 2.87562, saving model to /content/drive/MyDrive/ML_2/project/new_best_model.h5\n",
            "187091/187091 [==============================] - 96s 511us/sample - loss: 2.9810 - accuracy: 0.7824 - val_loss: 2.8756 - val_accuracy: 0.7927\n",
            "Epoch 10/20\n",
            "187091/187091 [==============================] - ETA: 0s - loss: 2.9211 - accuracy: 0.7873\n",
            "Epoch 00010: val_loss improved from 2.87562 to 2.84089, saving model to /content/drive/MyDrive/ML_2/project/new_best_model.h5\n",
            "187091/187091 [==============================] - 96s 511us/sample - loss: 2.9211 - accuracy: 0.7873 - val_loss: 2.8409 - val_accuracy: 0.7955\n",
            "Epoch 11/20\n",
            "187091/187091 [==============================] - ETA: 0s - loss: 2.8168 - accuracy: 0.7961\n",
            "Epoch 00011: val_loss improved from 2.84089 to 2.75506, saving model to /content/drive/MyDrive/ML_2/project/new_best_model.h5\n",
            "187091/187091 [==============================] - 95s 509us/sample - loss: 2.8168 - accuracy: 0.7961 - val_loss: 2.7551 - val_accuracy: 0.7999\n",
            "Epoch 12/20\n",
            "187091/187091 [==============================] - ETA: 0s - loss: 2.7408 - accuracy: 0.8025\n",
            "Epoch 00012: val_loss improved from 2.75506 to 2.63515, saving model to /content/drive/MyDrive/ML_2/project/new_best_model.h5\n",
            "187091/187091 [==============================] - 96s 511us/sample - loss: 2.7408 - accuracy: 0.8025 - val_loss: 2.6352 - val_accuracy: 0.8129\n",
            "Epoch 13/20\n",
            "187091/187091 [==============================] - ETA: 0s - loss: 2.6699 - accuracy: 0.8092\n",
            "Epoch 00013: val_loss improved from 2.63515 to 2.52175, saving model to /content/drive/MyDrive/ML_2/project/new_best_model.h5\n",
            "187091/187091 [==============================] - 96s 510us/sample - loss: 2.6699 - accuracy: 0.8092 - val_loss: 2.5218 - val_accuracy: 0.8241\n",
            "Epoch 14/20\n",
            "187091/187091 [==============================] - ETA: 0s - loss: 2.5708 - accuracy: 0.8175\n",
            "Epoch 00014: val_loss did not improve from 2.52175\n",
            "187091/187091 [==============================] - 93s 496us/sample - loss: 2.5708 - accuracy: 0.8175 - val_loss: 2.5942 - val_accuracy: 0.8168\n",
            "Epoch 15/20\n",
            "187091/187091 [==============================] - ETA: 0s - loss: 2.4891 - accuracy: 0.8246\n",
            "Epoch 00015: val_loss improved from 2.52175 to 2.48962, saving model to /content/drive/MyDrive/ML_2/project/new_best_model.h5\n",
            "187091/187091 [==============================] - 96s 512us/sample - loss: 2.4891 - accuracy: 0.8246 - val_loss: 2.4896 - val_accuracy: 0.8225\n",
            "Epoch 16/20\n",
            "187091/187091 [==============================] - ETA: 0s - loss: 2.3778 - accuracy: 0.8351\n",
            "Epoch 00016: val_loss improved from 2.48962 to 2.25999, saving model to /content/drive/MyDrive/ML_2/project/new_best_model.h5\n",
            "187091/187091 [==============================] - 96s 512us/sample - loss: 2.3778 - accuracy: 0.8351 - val_loss: 2.2600 - val_accuracy: 0.8448\n",
            "Epoch 17/20\n",
            "187091/187091 [==============================] - ETA: 0s - loss: 2.2624 - accuracy: 0.8438\n",
            "Epoch 00017: val_loss improved from 2.25999 to 2.21004, saving model to /content/drive/MyDrive/ML_2/project/new_best_model.h5\n",
            "187091/187091 [==============================] - 95s 510us/sample - loss: 2.2624 - accuracy: 0.8438 - val_loss: 2.2100 - val_accuracy: 0.8491\n",
            "Epoch 18/20\n",
            "187091/187091 [==============================] - ETA: 0s - loss: 2.1762 - accuracy: 0.8509\n",
            "Epoch 00018: val_loss improved from 2.21004 to 2.05551, saving model to /content/drive/MyDrive/ML_2/project/new_best_model.h5\n",
            "187091/187091 [==============================] - 95s 510us/sample - loss: 2.1762 - accuracy: 0.8509 - val_loss: 2.0555 - val_accuracy: 0.8601\n",
            "Epoch 19/20\n",
            "187091/187091 [==============================] - ETA: 0s - loss: 2.0812 - accuracy: 0.8587\n",
            "Epoch 00019: val_loss improved from 2.05551 to 1.88248, saving model to /content/drive/MyDrive/ML_2/project/new_best_model.h5\n",
            "187091/187091 [==============================] - 96s 511us/sample - loss: 2.0812 - accuracy: 0.8587 - val_loss: 1.8825 - val_accuracy: 0.8747\n",
            "Epoch 20/20\n",
            "187091/187091 [==============================] - ETA: 0s - loss: 2.0068 - accuracy: 0.8650\n",
            "Epoch 00020: val_loss did not improve from 1.88248\n",
            "187091/187091 [==============================] - 93s 497us/sample - loss: 2.0068 - accuracy: 0.8650 - val_loss: 2.2958 - val_accuracy: 0.8435\n"
          ],
          "name": "stdout"
        },
        {
          "output_type": "execute_result",
          "data": {
            "text/plain": [
              "<tensorflow.python.keras.callbacks.History at 0x7f64083e4668>"
            ]
          },
          "metadata": {
            "tags": []
          },
          "execution_count": 241
        }
      ]
    },
    {
      "cell_type": "code",
      "metadata": {
        "colab": {
          "base_uri": "https://localhost:8080/"
        },
        "id": "T9nwDKd-0EC6",
        "outputId": "cb05528d-a26c-4ec4-e20d-c9222d49d582"
      },
      "source": [
        "model.autoencoder.fit(\r\n",
        "         X_train,\r\n",
        "         Y_train,\r\n",
        "         shuffle = True,\r\n",
        "         epochs = 20,\r\n",
        "         batch_size = 1200,\r\n",
        "        callbacks = [checkpointer, reduce_lr],\r\n",
        "        validation_data = (X_test,Y_test))"
      ],
      "execution_count": 254,
      "outputs": [
        {
          "output_type": "stream",
          "text": [
            "Train on 187091 samples, validate on 62364 samples\n",
            "Epoch 1/20\n",
            "187091/187091 [==============================] - ETA: 0s - loss: 1.8985 - accuracy: 0.8731\n",
            "Epoch 00001: val_loss improved from 1.88248 to 1.78969, saving model to /content/drive/MyDrive/ML_2/project/new_best_model.h5\n",
            "187091/187091 [==============================] - 93s 499us/sample - loss: 1.8985 - accuracy: 0.8731 - val_loss: 1.7897 - val_accuracy: 0.8818\n",
            "Epoch 2/20\n",
            "187091/187091 [==============================] - ETA: 0s - loss: 1.8292 - accuracy: 0.8778\n",
            "Epoch 00002: val_loss improved from 1.78969 to 1.71855, saving model to /content/drive/MyDrive/ML_2/project/new_best_model.h5\n",
            "187091/187091 [==============================] - 95s 510us/sample - loss: 1.8292 - accuracy: 0.8778 - val_loss: 1.7185 - val_accuracy: 0.8862\n",
            "Epoch 3/20\n",
            "187091/187091 [==============================] - ETA: 0s - loss: 1.7115 - accuracy: 0.8865\n",
            "Epoch 00003: val_loss did not improve from 1.71855\n",
            "187091/187091 [==============================] - 93s 497us/sample - loss: 1.7115 - accuracy: 0.8865 - val_loss: 2.7508 - val_accuracy: 0.8281\n",
            "Epoch 4/20\n",
            "187091/187091 [==============================] - ETA: 0s - loss: 1.7311 - accuracy: 0.8856\n",
            "Epoch 00004: val_loss improved from 1.71855 to 1.55610, saving model to /content/drive/MyDrive/ML_2/project/new_best_model.h5\n",
            "187091/187091 [==============================] - 96s 512us/sample - loss: 1.7311 - accuracy: 0.8856 - val_loss: 1.5561 - val_accuracy: 0.8978\n",
            "Epoch 5/20\n",
            "187091/187091 [==============================] - ETA: 0s - loss: 1.6098 - accuracy: 0.8939\n",
            "Epoch 00005: val_loss improved from 1.55610 to 1.49812, saving model to /content/drive/MyDrive/ML_2/project/new_best_model.h5\n",
            "187091/187091 [==============================] - 96s 512us/sample - loss: 1.6098 - accuracy: 0.8939 - val_loss: 1.4981 - val_accuracy: 0.9027\n",
            "Epoch 6/20\n",
            "187091/187091 [==============================] - ETA: 0s - loss: 1.5050 - accuracy: 0.9014\n",
            "Epoch 00006: val_loss improved from 1.49812 to 1.43657, saving model to /content/drive/MyDrive/ML_2/project/new_best_model.h5\n",
            "187091/187091 [==============================] - 95s 510us/sample - loss: 1.5050 - accuracy: 0.9014 - val_loss: 1.4366 - val_accuracy: 0.9050\n",
            "Epoch 7/20\n",
            "187091/187091 [==============================] - ETA: 0s - loss: 1.5141 - accuracy: 0.9011\n",
            "Epoch 00007: val_loss did not improve from 1.43657\n",
            "187091/187091 [==============================] - 93s 496us/sample - loss: 1.5141 - accuracy: 0.9011 - val_loss: 1.4737 - val_accuracy: 0.9016\n",
            "Epoch 8/20\n",
            "187091/187091 [==============================] - ETA: 0s - loss: 1.4919 - accuracy: 0.9027\n",
            "Epoch 00008: val_loss did not improve from 1.43657\n",
            "187091/187091 [==============================] - 93s 495us/sample - loss: 1.4919 - accuracy: 0.9027 - val_loss: 1.9693 - val_accuracy: 0.8679\n",
            "Epoch 9/20\n",
            "187091/187091 [==============================] - ETA: 0s - loss: 1.4393 - accuracy: 0.9057\n",
            "Epoch 00009: val_loss improved from 1.43657 to 1.23562, saving model to /content/drive/MyDrive/ML_2/project/new_best_model.h5\n",
            "187091/187091 [==============================] - 95s 510us/sample - loss: 1.4393 - accuracy: 0.9057 - val_loss: 1.2356 - val_accuracy: 0.9197\n",
            "Epoch 10/20\n",
            "187091/187091 [==============================] - ETA: 0s - loss: 1.4545 - accuracy: 0.9049\n",
            "Epoch 00010: val_loss did not improve from 1.23562\n",
            "187091/187091 [==============================] - 93s 495us/sample - loss: 1.4545 - accuracy: 0.9049 - val_loss: 1.2984 - val_accuracy: 0.9161\n",
            "Epoch 11/20\n",
            "187091/187091 [==============================] - ETA: 0s - loss: 1.3206 - accuracy: 0.9143\n",
            "Epoch 00011: val_loss improved from 1.23562 to 1.21221, saving model to /content/drive/MyDrive/ML_2/project/new_best_model.h5\n",
            "187091/187091 [==============================] - 95s 510us/sample - loss: 1.3206 - accuracy: 0.9143 - val_loss: 1.2122 - val_accuracy: 0.9213\n",
            "Epoch 12/20\n",
            "187091/187091 [==============================] - ETA: 0s - loss: 1.2932 - accuracy: 0.9162\n",
            "Epoch 00012: val_loss did not improve from 1.21221\n",
            "187091/187091 [==============================] - 93s 497us/sample - loss: 1.2932 - accuracy: 0.9162 - val_loss: 1.3036 - val_accuracy: 0.9149\n",
            "Epoch 13/20\n",
            "187091/187091 [==============================] - ETA: 0s - loss: 1.1753 - accuracy: 0.9239\n",
            "Epoch 00013: val_loss improved from 1.21221 to 1.06654, saving model to /content/drive/MyDrive/ML_2/project/new_best_model.h5\n",
            "187091/187091 [==============================] - 95s 510us/sample - loss: 1.1753 - accuracy: 0.9239 - val_loss: 1.0665 - val_accuracy: 0.9314\n",
            "Epoch 14/20\n",
            "187091/187091 [==============================] - ETA: 0s - loss: 1.3141 - accuracy: 0.9154\n",
            "Epoch 00014: val_loss improved from 1.06654 to 1.04924, saving model to /content/drive/MyDrive/ML_2/project/new_best_model.h5\n",
            "187091/187091 [==============================] - 95s 509us/sample - loss: 1.3141 - accuracy: 0.9154 - val_loss: 1.0492 - val_accuracy: 0.9326\n",
            "Epoch 15/20\n",
            "187091/187091 [==============================] - ETA: 0s - loss: 1.2458 - accuracy: 0.9196\n",
            "Epoch 00015: val_loss did not improve from 1.04924\n",
            "187091/187091 [==============================] - 93s 497us/sample - loss: 1.2458 - accuracy: 0.9196 - val_loss: 1.1311 - val_accuracy: 0.9271\n",
            "Epoch 16/20\n",
            "187091/187091 [==============================] - ETA: 0s - loss: 1.1466 - accuracy: 0.9265\n",
            "Epoch 00016: val_loss improved from 1.04924 to 0.99066, saving model to /content/drive/MyDrive/ML_2/project/new_best_model.h5\n",
            "187091/187091 [==============================] - 95s 510us/sample - loss: 1.1466 - accuracy: 0.9265 - val_loss: 0.9907 - val_accuracy: 0.9366\n",
            "Epoch 17/20\n",
            "187091/187091 [==============================] - ETA: 0s - loss: 1.1139 - accuracy: 0.9288\n",
            "Epoch 00017: val_loss improved from 0.99066 to 0.96299, saving model to /content/drive/MyDrive/ML_2/project/new_best_model.h5\n",
            "187091/187091 [==============================] - 96s 512us/sample - loss: 1.1139 - accuracy: 0.9288 - val_loss: 0.9630 - val_accuracy: 0.9386\n",
            "Epoch 18/20\n",
            "187091/187091 [==============================] - ETA: 0s - loss: 1.1954 - accuracy: 0.9241\n",
            "Epoch 00018: val_loss did not improve from 0.96299\n",
            "187091/187091 [==============================] - 93s 496us/sample - loss: 1.1954 - accuracy: 0.9241 - val_loss: 0.9896 - val_accuracy: 0.9368\n",
            "Epoch 19/20\n",
            "187091/187091 [==============================] - ETA: 0s - loss: 1.2757 - accuracy: 0.9187\n",
            "Epoch 00019: val_loss did not improve from 0.96299\n",
            "187091/187091 [==============================] - 93s 497us/sample - loss: 1.2757 - accuracy: 0.9187 - val_loss: 0.9847 - val_accuracy: 0.9371\n",
            "Epoch 20/20\n",
            "187091/187091 [==============================] - ETA: 0s - loss: 1.0633 - accuracy: 0.9322\n",
            "Epoch 00020: val_loss improved from 0.96299 to 0.89889, saving model to /content/drive/MyDrive/ML_2/project/new_best_model.h5\n",
            "187091/187091 [==============================] - 96s 511us/sample - loss: 1.0633 - accuracy: 0.9322 - val_loss: 0.8989 - val_accuracy: 0.9431\n"
          ],
          "name": "stdout"
        },
        {
          "output_type": "execute_result",
          "data": {
            "text/plain": [
              "<tensorflow.python.keras.callbacks.History at 0x7f6408979748>"
            ]
          },
          "metadata": {
            "tags": []
          },
          "execution_count": 254
        }
      ]
    },
    {
      "cell_type": "code",
      "metadata": {
        "colab": {
          "base_uri": "https://localhost:8080/"
        },
        "id": "zCjqNtd-FzM7",
        "outputId": "b27f5b06-f05e-429b-ced8-81e934f8d455"
      },
      "source": [
        "model.autoencoder.fit(\r\n",
        "         X_train,\r\n",
        "         Y_train,\r\n",
        "         shuffle = True,\r\n",
        "         epochs = 20,\r\n",
        "         batch_size = 1200,\r\n",
        "        callbacks = [checkpointer, reduce_lr],\r\n",
        "        validation_data = (X_test,Y_test))"
      ],
      "execution_count": 261,
      "outputs": [
        {
          "output_type": "stream",
          "text": [
            "Train on 187091 samples, validate on 62364 samples\n",
            "Epoch 1/20\n",
            "187091/187091 [==============================] - ETA: 0s - loss: 0.9878 - accuracy: 0.9374\n",
            "Epoch 00001: val_loss improved from 0.89889 to 0.87196, saving model to /content/drive/MyDrive/ML_2/project/new_best_model.h5\n",
            "187091/187091 [==============================] - 96s 513us/sample - loss: 0.9878 - accuracy: 0.9374 - val_loss: 0.8720 - val_accuracy: 0.9447\n",
            "Epoch 2/20\n",
            "187091/187091 [==============================] - ETA: 0s - loss: 1.0080 - accuracy: 0.9361\n",
            "Epoch 00002: val_loss improved from 0.87196 to 0.84889, saving model to /content/drive/MyDrive/ML_2/project/new_best_model.h5\n",
            "187091/187091 [==============================] - 99s 529us/sample - loss: 1.0080 - accuracy: 0.9361 - val_loss: 0.8489 - val_accuracy: 0.9463\n",
            "Epoch 3/20\n",
            "187091/187091 [==============================] - ETA: 0s - loss: 1.0296 - accuracy: 0.9351\n",
            "Epoch 00003: val_loss improved from 0.84889 to 0.82698, saving model to /content/drive/MyDrive/ML_2/project/new_best_model.h5\n",
            "187091/187091 [==============================] - 98s 526us/sample - loss: 1.0296 - accuracy: 0.9351 - val_loss: 0.8270 - val_accuracy: 0.9479\n",
            "Epoch 4/20\n",
            "187091/187091 [==============================] - ETA: 0s - loss: 1.1801 - accuracy: 0.9258\n",
            "Epoch 00004: val_loss did not improve from 0.82698\n",
            "187091/187091 [==============================] - 96s 514us/sample - loss: 1.1801 - accuracy: 0.9258 - val_loss: 1.2268 - val_accuracy: 0.9201\n",
            "Epoch 5/20\n",
            "187091/187091 [==============================] - ETA: 0s - loss: 0.9452 - accuracy: 0.9405\n",
            "Epoch 00005: val_loss improved from 0.82698 to 0.79311, saving model to /content/drive/MyDrive/ML_2/project/new_best_model.h5\n",
            "187091/187091 [==============================] - 99s 529us/sample - loss: 0.9452 - accuracy: 0.9405 - val_loss: 0.7931 - val_accuracy: 0.9503\n",
            "Epoch 6/20\n",
            "187091/187091 [==============================] - ETA: 0s - loss: 1.0275 - accuracy: 0.9358\n",
            "Epoch 00006: val_loss did not improve from 0.79311\n",
            "187091/187091 [==============================] - 96s 513us/sample - loss: 1.0275 - accuracy: 0.9358 - val_loss: 0.8181 - val_accuracy: 0.9481\n",
            "Epoch 7/20\n",
            "187091/187091 [==============================] - ETA: 0s - loss: 0.9636 - accuracy: 0.9400\n",
            "Epoch 00007: val_loss did not improve from 0.79311\n",
            "187091/187091 [==============================] - 96s 512us/sample - loss: 0.9636 - accuracy: 0.9400 - val_loss: 1.5653 - val_accuracy: 0.9095\n",
            "Epoch 8/20\n",
            "187091/187091 [==============================] - ETA: 0s - loss: 0.8478 - accuracy: 0.9470\n",
            "Epoch 00008: val_loss improved from 0.79311 to 0.73927, saving model to /content/drive/MyDrive/ML_2/project/new_best_model.h5\n",
            "187091/187091 [==============================] - 98s 526us/sample - loss: 0.8478 - accuracy: 0.9470 - val_loss: 0.7393 - val_accuracy: 0.9540\n",
            "Epoch 9/20\n",
            "187091/187091 [==============================] - ETA: 0s - loss: 0.9591 - accuracy: 0.9409\n",
            "Epoch 00009: val_loss did not improve from 0.73927\n",
            "187091/187091 [==============================] - 96s 512us/sample - loss: 0.9591 - accuracy: 0.9409 - val_loss: 1.0296 - val_accuracy: 0.9346\n",
            "Epoch 10/20\n",
            "187091/187091 [==============================] - ETA: 0s - loss: 0.8681 - accuracy: 0.9461\n",
            "Epoch 00010: val_loss improved from 0.73927 to 0.70448, saving model to /content/drive/MyDrive/ML_2/project/new_best_model.h5\n",
            "187091/187091 [==============================] - 98s 526us/sample - loss: 0.8681 - accuracy: 0.9461 - val_loss: 0.7045 - val_accuracy: 0.9563\n",
            "Epoch 11/20\n",
            "187091/187091 [==============================] - ETA: 0s - loss: 0.8409 - accuracy: 0.9479\n",
            "Epoch 00011: val_loss improved from 0.70448 to 0.68244, saving model to /content/drive/MyDrive/ML_2/project/new_best_model.h5\n",
            "187091/187091 [==============================] - 99s 527us/sample - loss: 0.8409 - accuracy: 0.9479 - val_loss: 0.6824 - val_accuracy: 0.9578\n",
            "Epoch 12/20\n",
            "187091/187091 [==============================] - ETA: 0s - loss: 1.0983 - accuracy: 0.9316\n",
            "Epoch 00012: val_loss did not improve from 0.68244\n",
            "187091/187091 [==============================] - 95s 510us/sample - loss: 1.0983 - accuracy: 0.9316 - val_loss: 0.7172 - val_accuracy: 0.9555\n",
            "Epoch 13/20\n",
            "187091/187091 [==============================] - ETA: 0s - loss: 0.8931 - accuracy: 0.9451\n",
            "Epoch 00013: val_loss did not improve from 0.68244\n",
            "187091/187091 [==============================] - 96s 512us/sample - loss: 0.8931 - accuracy: 0.9451 - val_loss: 0.6929 - val_accuracy: 0.9572\n",
            "Epoch 14/20\n",
            "187091/187091 [==============================] - ETA: 0s - loss: 0.9849 - accuracy: 0.9394\n",
            "Epoch 00014: val_loss did not improve from 0.68244\n",
            "187091/187091 [==============================] - 99s 530us/sample - loss: 0.9849 - accuracy: 0.9394 - val_loss: 0.7360 - val_accuracy: 0.9545\n",
            "Epoch 15/20\n",
            "187091/187091 [==============================] - ETA: 0s - loss: 0.6449 - accuracy: 0.9607\n",
            "Epoch 00015: val_loss improved from 0.68244 to 0.64253, saving model to /content/drive/MyDrive/ML_2/project/new_best_model.h5\n",
            "187091/187091 [==============================] - 98s 524us/sample - loss: 0.6449 - accuracy: 0.9607 - val_loss: 0.6425 - val_accuracy: 0.9606\n",
            "Epoch 16/20\n",
            "187091/187091 [==============================] - ETA: 0s - loss: 0.6029 - accuracy: 0.9634\n",
            "Epoch 00016: val_loss improved from 0.64253 to 0.61857, saving model to /content/drive/MyDrive/ML_2/project/new_best_model.h5\n",
            "187091/187091 [==============================] - 98s 525us/sample - loss: 0.6029 - accuracy: 0.9634 - val_loss: 0.6186 - val_accuracy: 0.9621\n",
            "Epoch 17/20\n",
            "187091/187091 [==============================] - ETA: 0s - loss: 0.5854 - accuracy: 0.9645\n",
            "Epoch 00017: val_loss improved from 0.61857 to 0.60678, saving model to /content/drive/MyDrive/ML_2/project/new_best_model.h5\n",
            "187091/187091 [==============================] - 98s 525us/sample - loss: 0.5854 - accuracy: 0.9645 - val_loss: 0.6068 - val_accuracy: 0.9629\n",
            "Epoch 18/20\n",
            "187091/187091 [==============================] - ETA: 0s - loss: 0.5733 - accuracy: 0.9652\n",
            "Epoch 00018: val_loss improved from 0.60678 to 0.59634, saving model to /content/drive/MyDrive/ML_2/project/new_best_model.h5\n",
            "187091/187091 [==============================] - 99s 527us/sample - loss: 0.5733 - accuracy: 0.9652 - val_loss: 0.5963 - val_accuracy: 0.9635\n",
            "Epoch 19/20\n",
            "187091/187091 [==============================] - ETA: 0s - loss: 0.5634 - accuracy: 0.9658\n",
            "Epoch 00019: val_loss improved from 0.59634 to 0.58817, saving model to /content/drive/MyDrive/ML_2/project/new_best_model.h5\n",
            "187091/187091 [==============================] - 98s 524us/sample - loss: 0.5634 - accuracy: 0.9658 - val_loss: 0.5882 - val_accuracy: 0.9640\n",
            "Epoch 20/20\n",
            "187091/187091 [==============================] - ETA: 0s - loss: 0.5545 - accuracy: 0.9663\n",
            "Epoch 00020: val_loss improved from 0.58817 to 0.57980, saving model to /content/drive/MyDrive/ML_2/project/new_best_model.h5\n",
            "187091/187091 [==============================] - 100s 534us/sample - loss: 0.5545 - accuracy: 0.9663 - val_loss: 0.5798 - val_accuracy: 0.9646\n"
          ],
          "name": "stdout"
        },
        {
          "output_type": "execute_result",
          "data": {
            "text/plain": [
              "<tensorflow.python.keras.callbacks.History at 0x7f63dc088320>"
            ]
          },
          "metadata": {
            "tags": []
          },
          "execution_count": 261
        }
      ]
    },
    {
      "cell_type": "markdown",
      "metadata": {
        "id": "6BNwhDF6pBle"
      },
      "source": [
        "Trained the model again in batches to improve accuracy but the output from the trained model was not satisfactory trying LSTM based approach in another notebook to see the results "
      ]
    },
    {
      "cell_type": "code",
      "metadata": {
        "id": "quDGWhkBpSZP"
      },
      "source": [
        ""
      ],
      "execution_count": null,
      "outputs": []
    }
  ]
}